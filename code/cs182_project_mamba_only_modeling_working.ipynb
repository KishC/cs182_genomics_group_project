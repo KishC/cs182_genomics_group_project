{
 "cells": [
  {
   "cell_type": "code",
   "execution_count": 1,
   "metadata": {},
   "outputs": [],
   "source": [
    "# %pip uninstall torch torchvision torchaudio transformers mamba-ssm tqdm pandas scikit-learn numpy -y\n",
    "# %pip cache purge\n",
    "# %pip install peft torch transformers mamba-ssm tqdm pandas scikit-learn numpy\n"
   ]
  },
  {
   "cell_type": "code",
   "execution_count": 1,
   "metadata": {},
   "outputs": [],
   "source": [
    "import numpy as np\n",
    "import pandas as pd\n",
    "import matplotlib.pyplot as plt\n",
    "from sklearn.model_selection import train_test_split\n",
    "from sklearn.metrics import f1_score, accuracy_score, confusion_matrix"
   ]
  },
  {
   "cell_type": "code",
   "execution_count": 23,
   "metadata": {},
   "outputs": [
    {
     "data": {
      "text/html": [
       "<div>\n",
       "<style scoped>\n",
       "    .dataframe tbody tr th:only-of-type {\n",
       "        vertical-align: middle;\n",
       "    }\n",
       "\n",
       "    .dataframe tbody tr th {\n",
       "        vertical-align: top;\n",
       "    }\n",
       "\n",
       "    .dataframe thead th {\n",
       "        text-align: right;\n",
       "    }\n",
       "</style>\n",
       "<table border=\"1\" class=\"dataframe\">\n",
       "  <thead>\n",
       "    <tr style=\"text-align: right;\">\n",
       "      <th></th>\n",
       "      <th>id</th>\n",
       "      <th>coord</th>\n",
       "      <th>kind</th>\n",
       "      <th>transcript</th>\n",
       "      <th>strand</th>\n",
       "      <th>chrom</th>\n",
       "      <th>start</th>\n",
       "      <th>end</th>\n",
       "      <th>sequence</th>\n",
       "      <th>win_start</th>\n",
       "      <th>win_end</th>\n",
       "      <th>is_truncated</th>\n",
       "      <th>motif_len</th>\n",
       "      <th>motif</th>\n",
       "    </tr>\n",
       "  </thead>\n",
       "  <tbody>\n",
       "    <tr>\n",
       "      <th>0</th>\n",
       "      <td>NC_050096.1_35318_donor</td>\n",
       "      <td>35318</td>\n",
       "      <td>0</td>\n",
       "      <td>XM_020544715.3</td>\n",
       "      <td>+</td>\n",
       "      <td>NC_050096.1</td>\n",
       "      <td>35319</td>\n",
       "      <td>35320</td>\n",
       "      <td>CACGAATGCCCCTGCCTCGCCCACCTACGACGTCCGGGAGGCAGAG...</td>\n",
       "      <td>34918</td>\n",
       "      <td>35720</td>\n",
       "      <td>False</td>\n",
       "      <td>2</td>\n",
       "      <td>GT</td>\n",
       "    </tr>\n",
       "    <tr>\n",
       "      <th>1</th>\n",
       "      <td>NC_050096.1_34607_acceptor</td>\n",
       "      <td>34607</td>\n",
       "      <td>1</td>\n",
       "      <td>XM_020544715.3</td>\n",
       "      <td>+</td>\n",
       "      <td>NC_050096.1</td>\n",
       "      <td>34605</td>\n",
       "      <td>34606</td>\n",
       "      <td>TGGTACCGAGACATTTTGCCGTTTAACAATGGATCATGTGATTTAG...</td>\n",
       "      <td>34204</td>\n",
       "      <td>35006</td>\n",
       "      <td>False</td>\n",
       "      <td>2</td>\n",
       "      <td>TG</td>\n",
       "    </tr>\n",
       "    <tr>\n",
       "      <th>2</th>\n",
       "      <td>NC_050096.1_36174_donor</td>\n",
       "      <td>36174</td>\n",
       "      <td>0</td>\n",
       "      <td>XM_020544715.3</td>\n",
       "      <td>+</td>\n",
       "      <td>NC_050096.1</td>\n",
       "      <td>36175</td>\n",
       "      <td>36176</td>\n",
       "      <td>ACTCAAGCATGTGTCATGAGTCTCTTCTATTCTCAATAGTACTTCA...</td>\n",
       "      <td>35774</td>\n",
       "      <td>36576</td>\n",
       "      <td>False</td>\n",
       "      <td>2</td>\n",
       "      <td>GT</td>\n",
       "    </tr>\n",
       "    <tr>\n",
       "      <th>3</th>\n",
       "      <td>NC_050096.1_36037_acceptor</td>\n",
       "      <td>36037</td>\n",
       "      <td>1</td>\n",
       "      <td>XM_020544715.3</td>\n",
       "      <td>+</td>\n",
       "      <td>NC_050096.1</td>\n",
       "      <td>36035</td>\n",
       "      <td>36036</td>\n",
       "      <td>CTCTATTTTGCAAATTTTTTAACCAAGATCAAGTGGTTTCTTAAGA...</td>\n",
       "      <td>35634</td>\n",
       "      <td>36436</td>\n",
       "      <td>False</td>\n",
       "      <td>2</td>\n",
       "      <td>AG</td>\n",
       "    </tr>\n",
       "    <tr>\n",
       "      <th>4</th>\n",
       "      <td>NC_050096.1_36504_donor</td>\n",
       "      <td>36504</td>\n",
       "      <td>0</td>\n",
       "      <td>XM_020544715.3</td>\n",
       "      <td>+</td>\n",
       "      <td>NC_050096.1</td>\n",
       "      <td>36505</td>\n",
       "      <td>36506</td>\n",
       "      <td>GCGGATGATGACATACTTATCAATACCTGCAGATGATGCACTCCAA...</td>\n",
       "      <td>36104</td>\n",
       "      <td>36906</td>\n",
       "      <td>False</td>\n",
       "      <td>2</td>\n",
       "      <td>GT</td>\n",
       "    </tr>\n",
       "  </tbody>\n",
       "</table>\n",
       "</div>"
      ],
      "text/plain": [
       "                           id  coord  kind      transcript strand  \\\n",
       "0     NC_050096.1_35318_donor  35318     0  XM_020544715.3      +   \n",
       "1  NC_050096.1_34607_acceptor  34607     1  XM_020544715.3      +   \n",
       "2     NC_050096.1_36174_donor  36174     0  XM_020544715.3      +   \n",
       "3  NC_050096.1_36037_acceptor  36037     1  XM_020544715.3      +   \n",
       "4     NC_050096.1_36504_donor  36504     0  XM_020544715.3      +   \n",
       "\n",
       "         chrom  start    end  \\\n",
       "0  NC_050096.1  35319  35320   \n",
       "1  NC_050096.1  34605  34606   \n",
       "2  NC_050096.1  36175  36176   \n",
       "3  NC_050096.1  36035  36036   \n",
       "4  NC_050096.1  36505  36506   \n",
       "\n",
       "                                            sequence  win_start  win_end  \\\n",
       "0  CACGAATGCCCCTGCCTCGCCCACCTACGACGTCCGGGAGGCAGAG...      34918    35720   \n",
       "1  TGGTACCGAGACATTTTGCCGTTTAACAATGGATCATGTGATTTAG...      34204    35006   \n",
       "2  ACTCAAGCATGTGTCATGAGTCTCTTCTATTCTCAATAGTACTTCA...      35774    36576   \n",
       "3  CTCTATTTTGCAAATTTTTTAACCAAGATCAAGTGGTTTCTTAAGA...      35634    36436   \n",
       "4  GCGGATGATGACATACTTATCAATACCTGCAGATGATGCACTCCAA...      36104    36906   \n",
       "\n",
       "   is_truncated  motif_len motif  \n",
       "0         False          2    GT  \n",
       "1         False          2    TG  \n",
       "2         False          2    GT  \n",
       "3         False          2    AG  \n",
       "4         False          2    GT  "
      ]
     },
     "execution_count": 23,
     "metadata": {},
     "output_type": "execute_result"
    }
   ],
   "source": [
    "splice_df = pd.read_csv('../../splice_sites_full_centered_balanced_correct-GCF_902167145-half_window-800.csv')\n",
    "splice_df.head()"
   ]
  },
  {
   "cell_type": "code",
   "execution_count": 24,
   "metadata": {},
   "outputs": [],
   "source": [
    "# Split data with stratification\n",
    "train_df, temp_df = train_test_split(splice_df, test_size=0.3, stratify=splice_df['kind'], random_state=42)\n",
    "val_df, test_df = train_test_split(temp_df, test_size=0.5, stratify=temp_df['kind'], random_state=42)"
   ]
  },
  {
   "cell_type": "markdown",
   "metadata": {},
   "source": [
    "## Full Pipeline"
   ]
  },
  {
   "cell_type": "code",
   "execution_count": 28,
   "metadata": {},
   "outputs": [
    {
     "name": "stdout",
     "output_type": "stream",
     "text": [
      "PyTorch version: 2.4.0+cu121\n",
      "CUDA available: True\n",
      "CUDA version: 12.1\n"
     ]
    }
   ],
   "source": [
    "import torch\n",
    "print(f\"PyTorch version: {torch.__version__}\")\n",
    "print(f\"CUDA available: {torch.cuda.is_available()}\")\n",
    "print(f\"CUDA version: {torch.version.cuda}\")"
   ]
  },
  {
   "cell_type": "code",
   "execution_count": 29,
   "metadata": {},
   "outputs": [],
   "source": [
    "# Cell 1: Imports and Setup\n",
    "import torch\n",
    "import torch.nn as nn\n",
    "from transformers import AutoTokenizer, AutoModel, AutoConfig\n",
    "from mamba_ssm import Mamba\n",
    "from torch.utils.data import Dataset, DataLoader\n",
    "from tqdm.auto import tqdm\n",
    "import pandas as pd\n",
    "from sklearn.metrics import f1_score, confusion_matrix, precision_score, recall_score\n",
    "import numpy as np"
   ]
  },
  {
   "cell_type": "code",
   "execution_count": 30,
   "metadata": {},
   "outputs": [],
   "source": [
    "import os\n",
    "os.environ[\"TOKENIZERS_PARALLELISM\"] = \"false\""
   ]
  },
  {
   "cell_type": "code",
   "execution_count": 31,
   "metadata": {},
   "outputs": [],
   "source": [
    "# Cell 2: Dataset Class (Modified)\n",
    "class DNASequenceDataset(Dataset):\n",
    "    def __init__(self, sequences, labels, max_length=1650):\n",
    "        self.sequences = sequences\n",
    "        self.labels = torch.tensor(labels, dtype=torch.long)\n",
    "        self.max_length = max_length\n",
    "        self.nuc_to_idx = {'A': 0, 'C': 1, 'G': 2, 'T': 3, 'N': 4, 'P': 5}\n",
    "        \n",
    "        self.seq_encodings = []\n",
    "        for seq in sequences:\n",
    "            encoding = [self.nuc_to_idx.get(nuc, self.nuc_to_idx['N']) for nuc in seq[:max_length]]\n",
    "            encoding += [self.nuc_to_idx['P']] * (max_length - len(encoding))\n",
    "            self.seq_encodings.append(torch.tensor(encoding, dtype=torch.long))\n",
    "    \n",
    "    def __len__(self):\n",
    "        return len(self.labels)\n",
    "    \n",
    "    def __getitem__(self, idx):\n",
    "        return {\n",
    "            'sequence': self.seq_encodings[idx],\n",
    "            'label': self.labels[idx]\n",
    "        }"
   ]
  },
  {
   "cell_type": "code",
   "execution_count": 32,
   "metadata": {},
   "outputs": [],
   "source": [
    "class MambaSequenceClassifier(nn.Module):\n",
    "    def __init__(self, d_model=128, d_state=16, d_conv=4, expand=2, num_mamba_layers=4, n_classes=3, max_length=1650):\n",
    "        super().__init__()\n",
    "        self.nuc_embedding = nn.Embedding(6, d_model)  # ACGTNP to d_model\n",
    "        self.pos_embedding = nn.Embedding(max_length, d_model)  # Learnable positional embeddings\n",
    "\n",
    "        nn.init.xavier_uniform_(self.nuc_embedding.weight)\n",
    "        nn.init.xavier_uniform_(self.pos_embedding.weight)\n",
    "        \n",
    "        self.mamba = nn.Sequential(*[\n",
    "            nn.Sequential(\n",
    "                nn.LayerNorm(d_model),\n",
    "                Mamba(\n",
    "                    d_model=d_model,\n",
    "                    d_state=d_state,\n",
    "                    d_conv=d_conv,\n",
    "                    expand=expand,\n",
    "                    use_fast_path=True\n",
    "                ),\n",
    "                nn.Dropout(0.1),\n",
    "            ) for _ in range(num_mamba_layers)\n",
    "        ])\n",
    "\n",
    "        self.classifier = nn.Sequential(\n",
    "            nn.LayerNorm(d_model),\n",
    "            nn.Dropout(0.1),\n",
    "            nn.Linear(d_model, n_classes)\n",
    "        )\n",
    "        \n",
    "        # # simple scalar attention over time\n",
    "        # self.attention_pool = nn.Sequential(\n",
    "        #     nn.Linear(d_model, 1),\n",
    "        #     nn.Softmax(dim=1)\n",
    "        # )\n",
    "\n",
    "        # Mini attention MLP\n",
    "        self.attention_pool = nn.Sequential(\n",
    "            nn.LayerNorm(d_model),\n",
    "            nn.Linear(d_model, d_model // 2),\n",
    "            nn.Tanh(),\n",
    "            nn.Linear(d_model // 2, 1),\n",
    "            nn.Softmax(dim=1)\n",
    "        )\n",
    "            \n",
    "    def forward(self, sequence, labels=None):\n",
    "        pos_ids = torch.arange(sequence.size(1), device=sequence.device).unsqueeze(0).expand(sequence.size(0), -1)\n",
    "        x = self.nuc_embedding(sequence) + self.pos_embedding(pos_ids)  # Add position to nucleotide embeddings\n",
    "        x = self.mamba(x)\n",
    "        weights = self.attention_pool(x)  # [B, T, 1]\n",
    "        x = (x * weights).sum(dim=1)\n",
    "        logits = self.classifier(x)\n",
    "        \n",
    "        if labels is not None:\n",
    "            loss = nn.CrossEntropyLoss(label_smoothing=0.1)(logits, labels)\n",
    "            return loss, logits\n",
    "        return None, logits\n"
   ]
  },
  {
   "cell_type": "code",
   "execution_count": 33,
   "metadata": {},
   "outputs": [],
   "source": [
    "# Cell 4: Model Initialization (Modified)\n",
    "def prepare_model_and_data(train_df, val_df, test_df, sample_size=5000, max_length=1650):\n",
    "    train_sample = train_df.groupby('kind', group_keys=False).apply(\n",
    "        lambda x: x.sample(n=min(len(x), sample_size // 3))\n",
    "    ).reset_index(drop=True)\n",
    "\n",
    "    val_sample = val_df.groupby('kind', group_keys=False).apply(\n",
    "        lambda x: x.sample(n=min(len(x), sample_size // 15))\n",
    "    ).reset_index(drop=True)\n",
    "\n",
    "    test_sample = test_df.groupby('kind', group_keys=False).apply(\n",
    "        lambda x: x.sample(n=min(len(x), sample_size // 15))\n",
    "    ).reset_index(drop=True)\n",
    "    \n",
    "    train_dataset = DNASequenceDataset(\n",
    "        sequences=train_sample['sequence'].tolist(),\n",
    "        labels=train_sample['kind'].tolist(),\n",
    "        max_length=max_length\n",
    "    )\n",
    "\n",
    "    val_dataset = DNASequenceDataset(\n",
    "        sequences=val_sample['sequence'].tolist(),\n",
    "        labels=val_sample['kind'].tolist(),\n",
    "        max_length=max_length\n",
    "    )\n",
    "    \n",
    "    test_dataset = DNASequenceDataset(\n",
    "        sequences=test_sample['sequence'].tolist(),\n",
    "        labels=test_sample['kind'].tolist(),\n",
    "        max_length=max_length\n",
    "    )\n",
    "    \n",
    "    train_dataloader = DataLoader(train_dataset, batch_size=32, shuffle=True)\n",
    "    val_dataloader = DataLoader(val_dataset, batch_size=32)\n",
    "    test_dataloader = DataLoader(test_dataset, batch_size=32)\n",
    "    \n",
    "    device = torch.device(\"cuda\" if torch.cuda.is_available() else \"cpu\")\n",
    "    model = MambaSequenceClassifier(\n",
    "        d_model=128,\n",
    "        d_state=16,\n",
    "        d_conv=4,\n",
    "        expand=1,\n",
    "        num_mamba_layers=4,\n",
    "        n_classes=3\n",
    "    ).to(device)\n",
    "    \n",
    "    return model, train_dataloader, val_dataloader, test_dataloader, device\n"
   ]
  },
  {
   "cell_type": "code",
   "execution_count": 34,
   "metadata": {},
   "outputs": [],
   "source": [
    "def evaluate_model(model, dataloader, device):\n",
    "    \"\"\"\n",
    "    Evaluate the model and return comprehensive metrics.\n",
    "    \"\"\"\n",
    "    model.eval()\n",
    "    total_loss = 0\n",
    "    correct = 0\n",
    "    total = 0\n",
    "    all_preds = []\n",
    "    all_labels = []\n",
    "    \n",
    "    with torch.no_grad():\n",
    "        for batch in dataloader:\n",
    "            sequence = batch['sequence'].to(device)\n",
    "            labels = batch['label'].to(device)\n",
    "            \n",
    "            loss, logits = model(sequence, labels)\n",
    "            total_loss += loss.item()\n",
    "            \n",
    "            predictions = torch.argmax(logits, dim=1)\n",
    "            correct += (predictions == labels).sum().item()\n",
    "            total += labels.size(0)\n",
    "            \n",
    "            all_preds.extend(predictions.cpu().numpy())\n",
    "            all_labels.extend(labels.cpu().numpy())\n",
    "    \n",
    "    avg_loss = total_loss / len(dataloader)\n",
    "    accuracy = correct / total\n",
    "    \n",
    "    # Calculate F1 scores for each class\n",
    "    f1_scores = f1_score(all_labels, all_preds, average=None)\n",
    "    \n",
    "    # Calculate confusion matrix\n",
    "    cm = confusion_matrix(all_labels, all_preds)\n",
    "    \n",
    "    # Calculate precision and recall\n",
    "    precision = precision_score(all_labels, all_preds, average=None)\n",
    "    recall = recall_score(all_labels, all_preds, average=None)\n",
    "    \n",
    "    metrics = {\n",
    "        'loss': avg_loss,\n",
    "        'accuracy': accuracy,\n",
    "        'f1_scores': f1_scores,\n",
    "        'confusion_matrix': cm,\n",
    "        'precision': precision,\n",
    "        'recall': recall\n",
    "    }\n",
    "    \n",
    "    return metrics"
   ]
  },
  {
   "cell_type": "code",
   "execution_count": 35,
   "metadata": {},
   "outputs": [],
   "source": [
    "def train_model(model, train_dataloader, val_dataloader, test_dataloader, device, \n",
    "                num_epochs=10, patience=3, learning_rate=1e-4,\n",
    "                checkpoint_dir='checkpoints'):\n",
    "    \n",
    "    # Create checkpoint directory if it doesn't exist\n",
    "    os.makedirs(checkpoint_dir, exist_ok=True)\n",
    "    \n",
    "    # Initialize optimizer and tracking variables\n",
    "    optimizer = torch.optim.AdamW(model.parameters(), lr=learning_rate, weight_decay=0.01)\n",
    "    scheduler = torch.optim.lr_scheduler.ReduceLROnPlateau(optimizer, mode='min', patience=2)\n",
    "    \n",
    "    best_val_loss = float('inf')\n",
    "    patience_counter = 0\n",
    "    best_model_state = None\n",
    "    \n",
    "    # Initialize tracking lists with F1 scores\n",
    "    history = {\n",
    "        'epoch': [], 'train_loss': [], 'val_loss': [],\n",
    "        'train_acc': [], 'val_acc': [], 'learning_rate': [],\n",
    "        'train_f1_class0': [], 'train_f1_class1': [],'train_f1_class2': [],\n",
    "        'val_f1_class0': [], 'val_f1_class1': [], 'val_f1_class2': []\n",
    "    }\n",
    "    \n",
    "    for epoch in range(num_epochs):\n",
    "        # Training phase\n",
    "        model.train()\n",
    "        total_train_loss = 0\n",
    "        train_correct = 0\n",
    "        train_total = 0\n",
    "        train_preds = []\n",
    "        train_labels = []\n",
    "        \n",
    "        for batch in tqdm(train_dataloader, desc=f'Epoch {epoch + 1}/{num_epochs}'):\n",
    "            sequence = batch['sequence'].to(device)\n",
    "            labels = batch['label'].to(device)\n",
    "            \n",
    "            optimizer.zero_grad()\n",
    "            loss, logits = model(sequence, labels)\n",
    "            \n",
    "            loss.backward()\n",
    "            torch.nn.utils.clip_grad_norm_(model.parameters(), 1.0)\n",
    "            optimizer.step()\n",
    "            \n",
    "            total_train_loss += loss.item()\n",
    "            \n",
    "            # Calculate accuracy and store predictions\n",
    "            predictions = torch.argmax(logits, dim=1)\n",
    "            train_correct += (predictions == labels).sum().item()\n",
    "            train_total += labels.size(0)\n",
    "            train_preds.extend(predictions.cpu().numpy())\n",
    "            train_labels.extend(labels.cpu().numpy())\n",
    "        \n",
    "        avg_train_loss = total_train_loss / len(train_dataloader)\n",
    "        train_accuracy = train_correct / train_total\n",
    "        \n",
    "        # Calculate F1 scores for training\n",
    "        train_f1_scores = f1_score(train_labels, train_preds, average=None)\n",
    "        \n",
    "        # Validation phase\n",
    "        model.eval()\n",
    "        total_val_loss = 0\n",
    "        val_correct = 0\n",
    "        val_total = 0\n",
    "        val_preds = []\n",
    "        val_labels = []\n",
    "        \n",
    "        with torch.no_grad():\n",
    "            for batch in val_dataloader:\n",
    "                sequence = batch['sequence'].to(device)\n",
    "                labels = batch['label'].to(device)\n",
    "                \n",
    "                loss, logits = model(sequence, labels)\n",
    "                total_val_loss += loss.item()\n",
    "                \n",
    "                # Calculate accuracy and store predictions\n",
    "                predictions = torch.argmax(logits, dim=1)\n",
    "                val_correct += (predictions == labels).sum().item()\n",
    "                val_total += labels.size(0)\n",
    "                val_preds.extend(predictions.cpu().numpy())\n",
    "                val_labels.extend(labels.cpu().numpy())\n",
    "        \n",
    "        avg_val_loss = total_val_loss / len(val_dataloader)\n",
    "        val_accuracy = val_correct / val_total\n",
    "        \n",
    "        # Calculate F1 scores for validation\n",
    "        val_f1_scores = f1_score(val_labels, val_preds, average=None)\n",
    "        \n",
    "        # Update learning rate\n",
    "        scheduler.step(avg_val_loss)\n",
    "        current_lr = optimizer.param_groups[0]['lr']\n",
    "        \n",
    "        # Save history with F1 scores\n",
    "        history['epoch'].append(epoch + 1)\n",
    "        history['train_loss'].append(avg_train_loss)\n",
    "        history['val_loss'].append(avg_val_loss)\n",
    "        history['train_acc'].append(train_accuracy)\n",
    "        history['val_acc'].append(val_accuracy)\n",
    "        history['learning_rate'].append(current_lr)\n",
    "        history['train_f1_class0'].append(train_f1_scores[0])\n",
    "        history['train_f1_class1'].append(train_f1_scores[1])\n",
    "        history['train_f1_class2'].append(train_f1_scores[2])\n",
    "        history['val_f1_class0'].append(val_f1_scores[0])\n",
    "        history['val_f1_class1'].append(val_f1_scores[1])\n",
    "        history['val_f1_class2'].append(val_f1_scores[2])\n",
    "        \n",
    "        # Print metrics\n",
    "        print(f'Epoch {epoch + 1}/{num_epochs}:')\n",
    "        print(f'Train Loss: {avg_train_loss:.4f}, Train Acc: {train_accuracy:.4f}')\n",
    "        print(f'Train F1 (Class 0): {train_f1_scores[0]:.4f}, Train F1 (Class 1): {train_f1_scores[1]:.4f}, Train F1 (Class 2): {train_f1_scores[2]:.4f}')\n",
    "        print(f'Val Loss: {avg_val_loss:.4f}, Val Acc: {val_accuracy:.4f}')\n",
    "        print(f'Val F1 (Class 0): {val_f1_scores[0]:.4f}, Val F1 (Class 1): {val_f1_scores[1]:.4f}, Val F1 (Class 2): {val_f1_scores[2]:.4f}')\n",
    "        print(f'Learning Rate: {current_lr}')\n",
    "        \n",
    "        # Save checkpoint for this epoch\n",
    "        checkpoint = {\n",
    "            'epoch': epoch + 1,\n",
    "            'model_state_dict': model.state_dict(),\n",
    "            'optimizer_state_dict': optimizer.state_dict(),\n",
    "            'scheduler_state_dict': scheduler.state_dict(),\n",
    "            'train_loss': avg_train_loss,\n",
    "            'val_loss': avg_val_loss,\n",
    "            'train_acc': train_accuracy,\n",
    "            'val_acc': val_accuracy,\n",
    "            'train_f1_class0': train_f1_scores[0],\n",
    "            'train_f1_class1': train_f1_scores[1],\n",
    "            'train_f1_class2': train_f1_scores[2],\n",
    "            'val_f1_class0': val_f1_scores[0],\n",
    "            'val_f1_class1': val_f1_scores[1],\n",
    "            'val_f1_class2': val_f1_scores[2],\n",
    "            'learning_rate': current_lr\n",
    "        }\n",
    "        torch.save(checkpoint, os.path.join(checkpoint_dir, f'checkpoint_epoch_{epoch + 1}.pt'))\n",
    "        \n",
    "        # Early stopping check\n",
    "        if avg_val_loss < best_val_loss:\n",
    "            best_val_loss = avg_val_loss\n",
    "            best_model_state = model.state_dict().copy()\n",
    "            patience_counter = 0\n",
    "            \n",
    "            # Save best model\n",
    "            best_checkpoint = {\n",
    "                'epoch': epoch + 1,\n",
    "                'model_state_dict': model.state_dict(),\n",
    "                'optimizer_state_dict': optimizer.state_dict(),\n",
    "                'scheduler_state_dict': scheduler.state_dict(),\n",
    "                'train_loss': avg_train_loss,\n",
    "                'val_loss': avg_val_loss,\n",
    "                'train_acc': train_accuracy,\n",
    "                'val_acc': val_accuracy,\n",
    "                'train_f1_class0': train_f1_scores[0],\n",
    "                'train_f1_class1': train_f1_scores[1],\n",
    "                'train_f1_class2': train_f1_scores[2],\n",
    "                'val_f1_class0': val_f1_scores[0],\n",
    "                'val_f1_class1': val_f1_scores[1],\n",
    "                'val_f1_class2': val_f1_scores[2],\n",
    "                'learning_rate': current_lr\n",
    "            }\n",
    "            torch.save(best_checkpoint, os.path.join(checkpoint_dir, 'best_model.pt'))\n",
    "        else:\n",
    "            patience_counter += 1\n",
    "            \n",
    "        if patience_counter >= patience:\n",
    "            print(f'Early stopping triggered after epoch {epoch + 1}')\n",
    "            break\n",
    "    \n",
    "    # Load best model\n",
    "    if best_model_state is not None:\n",
    "        model.load_state_dict(best_model_state)\n",
    "    \n",
    "    # Final evaluation on test set\n",
    "    print(\"\\nPerforming final evaluation on test set...\")\n",
    "    test_metrics = evaluate_model(model, test_dataloader, device)\n",
    "    \n",
    "    print(\"\\n=== Final Test Evaluation ===\")\n",
    "    print(f\"Test Loss: {test_metrics['loss']:.4f}\")\n",
    "    print(f\"Test Accuracy: {test_metrics['accuracy']:.4f}\")\n",
    "    print(f\"Test F1 (Class 0): {test_metrics['f1_scores'][0]:.4f}\")\n",
    "    print(f\"Test F1 (Class 1): {test_metrics['f1_scores'][1]:.4f}\")\n",
    "    print(f\"Test F1 (Class 2): {test_metrics['f1_scores'][2]:.4f}\")\n",
    "    print(\"\\nConfusion Matrix:\")\n",
    "    print(test_metrics['confusion_matrix'])\n",
    "    print(\"\\nPrecision (Class 0, Class 1, Class 2):\", test_metrics['precision'])\n",
    "    print(\"Recall (Class 0, Class 1, Class 2):\", test_metrics['recall'])\n",
    "    \n",
    "    # Save final model with test metrics\n",
    "    final_checkpoint = {\n",
    "        'epoch': num_epochs,\n",
    "        'model_state_dict': model.state_dict(),\n",
    "        'optimizer_state_dict': optimizer.state_dict(),\n",
    "        'scheduler_state_dict': scheduler.state_dict(),\n",
    "        'train_loss': avg_train_loss,\n",
    "        'val_loss': avg_val_loss,\n",
    "        'train_acc': train_accuracy,\n",
    "        'val_acc': val_accuracy,\n",
    "        'train_f1_class0': train_f1_scores[0],\n",
    "        'train_f1_class1': train_f1_scores[1],\n",
    "        'train_f1_class2': train_f1_scores[2],\n",
    "        'val_f1_class0': val_f1_scores[0],\n",
    "        'val_f1_class1': val_f1_scores[1],\n",
    "        'val_f1_class2': val_f1_scores[2],\n",
    "        'learning_rate': current_lr,\n",
    "        'test_metrics': test_metrics\n",
    "    }\n",
    "    torch.save(final_checkpoint, os.path.join(checkpoint_dir, 'final_model.pt'))\n",
    "    \n",
    "    # Convert history to DataFrame\n",
    "    history_df = pd.DataFrame(history)\n",
    "    return history_df, test_metrics"
   ]
  },
  {
   "cell_type": "code",
   "execution_count": 36,
   "metadata": {},
   "outputs": [
    {
     "name": "stderr",
     "output_type": "stream",
     "text": [
      "/tmp/ipykernel_3491452/1390806034.py:3: DeprecationWarning: DataFrameGroupBy.apply operated on the grouping columns. This behavior is deprecated, and in a future version of pandas the grouping columns will be excluded from the operation. Either pass `include_groups=False` to exclude the groupings or explicitly select the grouping columns after groupby to silence this warning.\n",
      "  train_sample = train_df.groupby('kind', group_keys=False).apply(\n",
      "/tmp/ipykernel_3491452/1390806034.py:7: DeprecationWarning: DataFrameGroupBy.apply operated on the grouping columns. This behavior is deprecated, and in a future version of pandas the grouping columns will be excluded from the operation. Either pass `include_groups=False` to exclude the groupings or explicitly select the grouping columns after groupby to silence this warning.\n",
      "  val_sample = val_df.groupby('kind', group_keys=False).apply(\n",
      "/tmp/ipykernel_3491452/1390806034.py:11: DeprecationWarning: DataFrameGroupBy.apply operated on the grouping columns. This behavior is deprecated, and in a future version of pandas the grouping columns will be excluded from the operation. Either pass `include_groups=False` to exclude the groupings or explicitly select the grouping columns after groupby to silence this warning.\n",
      "  test_sample = test_df.groupby('kind', group_keys=False).apply(\n"
     ]
    },
    {
     "data": {
      "application/vnd.jupyter.widget-view+json": {
       "model_id": "fb820bacc0d14899bc5150f45b9a6396",
       "version_major": 2,
       "version_minor": 0
      },
      "text/plain": [
       "Epoch 1/20:   0%|          | 0/6250 [00:00<?, ?it/s]"
      ]
     },
     "metadata": {},
     "output_type": "display_data"
    },
    {
     "name": "stdout",
     "output_type": "stream",
     "text": [
      "Epoch 1/20:\n",
      "Train Loss: 0.5403, Train Acc: 0.8564\n",
      "Train F1 (Class 0): 0.8617, Train F1 (Class 1): 0.8554, Train F1 (Class 2): 0.8522\n",
      "Val Loss: 0.4289, Val Acc: 0.9294\n",
      "Val F1 (Class 0): 0.9396, Val F1 (Class 1): 0.9394, Val F1 (Class 2): 0.9086\n",
      "Learning Rate: 0.0001\n"
     ]
    },
    {
     "data": {
      "application/vnd.jupyter.widget-view+json": {
       "model_id": "8f746e45694f490aacb435e821c37a7d",
       "version_major": 2,
       "version_minor": 0
      },
      "text/plain": [
       "Epoch 2/20:   0%|          | 0/6250 [00:00<?, ?it/s]"
      ]
     },
     "metadata": {},
     "output_type": "display_data"
    },
    {
     "name": "stdout",
     "output_type": "stream",
     "text": [
      "Epoch 2/20:\n",
      "Train Loss: 0.4264, Train Acc: 0.9313\n",
      "Train F1 (Class 0): 0.9418, Train F1 (Class 1): 0.9394, Train F1 (Class 2): 0.9126\n",
      "Val Loss: 0.4109, Val Acc: 0.9388\n",
      "Val F1 (Class 0): 0.9490, Val F1 (Class 1): 0.9465, Val F1 (Class 2): 0.9205\n",
      "Learning Rate: 0.0001\n"
     ]
    },
    {
     "data": {
      "application/vnd.jupyter.widget-view+json": {
       "model_id": "5eeae7fa803344bd854b54b3d967033c",
       "version_major": 2,
       "version_minor": 0
      },
      "text/plain": [
       "Epoch 3/20:   0%|          | 0/6250 [00:00<?, ?it/s]"
      ]
     },
     "metadata": {},
     "output_type": "display_data"
    },
    {
     "name": "stdout",
     "output_type": "stream",
     "text": [
      "Epoch 3/20:\n",
      "Train Loss: 0.4048, Train Acc: 0.9417\n",
      "Train F1 (Class 0): 0.9510, Train F1 (Class 1): 0.9477, Train F1 (Class 2): 0.9264\n",
      "Val Loss: 0.3970, Val Acc: 0.9459\n",
      "Val F1 (Class 0): 0.9518, Val F1 (Class 1): 0.9546, Val F1 (Class 2): 0.9313\n",
      "Learning Rate: 0.0001\n"
     ]
    },
    {
     "data": {
      "application/vnd.jupyter.widget-view+json": {
       "model_id": "82f5dbd003f84c0d976137776e8d1b6b",
       "version_major": 2,
       "version_minor": 0
      },
      "text/plain": [
       "Epoch 4/20:   0%|          | 0/6250 [00:00<?, ?it/s]"
      ]
     },
     "metadata": {},
     "output_type": "display_data"
    },
    {
     "name": "stdout",
     "output_type": "stream",
     "text": [
      "Epoch 4/20:\n",
      "Train Loss: 0.3923, Train Acc: 0.9486\n",
      "Train F1 (Class 0): 0.9565, Train F1 (Class 1): 0.9539, Train F1 (Class 2): 0.9353\n",
      "Val Loss: 0.3873, Val Acc: 0.9505\n",
      "Val F1 (Class 0): 0.9570, Val F1 (Class 1): 0.9580, Val F1 (Class 2): 0.9365\n",
      "Learning Rate: 0.0001\n"
     ]
    },
    {
     "data": {
      "application/vnd.jupyter.widget-view+json": {
       "model_id": "f938cf86c4e0412b86467fb519437c32",
       "version_major": 2,
       "version_minor": 0
      },
      "text/plain": [
       "Epoch 5/20:   0%|          | 0/6250 [00:00<?, ?it/s]"
      ]
     },
     "metadata": {},
     "output_type": "display_data"
    },
    {
     "name": "stdout",
     "output_type": "stream",
     "text": [
      "Epoch 5/20:\n",
      "Train Loss: 0.3831, Train Acc: 0.9530\n",
      "Train F1 (Class 0): 0.9600, Train F1 (Class 1): 0.9575, Train F1 (Class 2): 0.9414\n",
      "Val Loss: 0.3875, Val Acc: 0.9493\n",
      "Val F1 (Class 0): 0.9547, Val F1 (Class 1): 0.9579, Val F1 (Class 2): 0.9351\n",
      "Learning Rate: 0.0001\n"
     ]
    },
    {
     "data": {
      "application/vnd.jupyter.widget-view+json": {
       "model_id": "d7b9c2eb1461498ca8cdc1f9aedaba79",
       "version_major": 2,
       "version_minor": 0
      },
      "text/plain": [
       "Epoch 6/20:   0%|          | 0/6250 [00:00<?, ?it/s]"
      ]
     },
     "metadata": {},
     "output_type": "display_data"
    },
    {
     "name": "stdout",
     "output_type": "stream",
     "text": [
      "Epoch 6/20:\n",
      "Train Loss: 0.3755, Train Acc: 0.9572\n",
      "Train F1 (Class 0): 0.9634, Train F1 (Class 1): 0.9616, Train F1 (Class 2): 0.9465\n",
      "Val Loss: 0.3843, Val Acc: 0.9520\n",
      "Val F1 (Class 0): 0.9578, Val F1 (Class 1): 0.9593, Val F1 (Class 2): 0.9387\n",
      "Learning Rate: 0.0001\n"
     ]
    },
    {
     "data": {
      "application/vnd.jupyter.widget-view+json": {
       "model_id": "0a21ccd8f0644029aa2dd1fb38363c45",
       "version_major": 2,
       "version_minor": 0
      },
      "text/plain": [
       "Epoch 7/20:   0%|          | 0/6250 [00:00<?, ?it/s]"
      ]
     },
     "metadata": {},
     "output_type": "display_data"
    },
    {
     "name": "stdout",
     "output_type": "stream",
     "text": [
      "Epoch 7/20:\n",
      "Train Loss: 0.3691, Train Acc: 0.9606\n",
      "Train F1 (Class 0): 0.9663, Train F1 (Class 1): 0.9646, Train F1 (Class 2): 0.9510\n",
      "Val Loss: 0.3852, Val Acc: 0.9531\n",
      "Val F1 (Class 0): 0.9600, Val F1 (Class 1): 0.9592, Val F1 (Class 2): 0.9402\n",
      "Learning Rate: 0.0001\n"
     ]
    },
    {
     "data": {
      "application/vnd.jupyter.widget-view+json": {
       "model_id": "aea7e92406b7491399dcca3bbcbd22fe",
       "version_major": 2,
       "version_minor": 0
      },
      "text/plain": [
       "Epoch 8/20:   0%|          | 0/6250 [00:00<?, ?it/s]"
      ]
     },
     "metadata": {},
     "output_type": "display_data"
    },
    {
     "name": "stdout",
     "output_type": "stream",
     "text": [
      "Epoch 8/20:\n",
      "Train Loss: 0.3634, Train Acc: 0.9638\n",
      "Train F1 (Class 0): 0.9690, Train F1 (Class 1): 0.9675, Train F1 (Class 2): 0.9550\n",
      "Val Loss: 0.3888, Val Acc: 0.9514\n",
      "Val F1 (Class 0): 0.9579, Val F1 (Class 1): 0.9592, Val F1 (Class 2): 0.9367\n",
      "Learning Rate: 0.0001\n"
     ]
    },
    {
     "data": {
      "application/vnd.jupyter.widget-view+json": {
       "model_id": "14a09c62fba347878fb11162d4210f80",
       "version_major": 2,
       "version_minor": 0
      },
      "text/plain": [
       "Epoch 9/20:   0%|          | 0/6250 [00:00<?, ?it/s]"
      ]
     },
     "metadata": {},
     "output_type": "display_data"
    },
    {
     "name": "stdout",
     "output_type": "stream",
     "text": [
      "Epoch 9/20:\n",
      "Train Loss: 0.3585, Train Acc: 0.9665\n",
      "Train F1 (Class 0): 0.9709, Train F1 (Class 1): 0.9702, Train F1 (Class 2): 0.9586\n",
      "Val Loss: 0.3833, Val Acc: 0.9544\n",
      "Val F1 (Class 0): 0.9608, Val F1 (Class 1): 0.9614, Val F1 (Class 2): 0.9413\n",
      "Learning Rate: 0.0001\n"
     ]
    },
    {
     "data": {
      "application/vnd.jupyter.widget-view+json": {
       "model_id": "e11c13f899c74cb88422c6283f80665b",
       "version_major": 2,
       "version_minor": 0
      },
      "text/plain": [
       "Epoch 10/20:   0%|          | 0/6250 [00:00<?, ?it/s]"
      ]
     },
     "metadata": {},
     "output_type": "display_data"
    },
    {
     "name": "stdout",
     "output_type": "stream",
     "text": [
      "Epoch 10/20:\n",
      "Train Loss: 0.3533, Train Acc: 0.9693\n",
      "Train F1 (Class 0): 0.9736, Train F1 (Class 1): 0.9724, Train F1 (Class 2): 0.9621\n",
      "Val Loss: 0.3872, Val Acc: 0.9523\n",
      "Val F1 (Class 0): 0.9583, Val F1 (Class 1): 0.9593, Val F1 (Class 2): 0.9396\n",
      "Learning Rate: 0.0001\n"
     ]
    },
    {
     "data": {
      "application/vnd.jupyter.widget-view+json": {
       "model_id": "8fcd1be3217c4c809d3d533bab69620e",
       "version_major": 2,
       "version_minor": 0
      },
      "text/plain": [
       "Epoch 11/20:   0%|          | 0/6250 [00:00<?, ?it/s]"
      ]
     },
     "metadata": {},
     "output_type": "display_data"
    },
    {
     "name": "stdout",
     "output_type": "stream",
     "text": [
      "Epoch 11/20:\n",
      "Train Loss: 0.3497, Train Acc: 0.9713\n",
      "Train F1 (Class 0): 0.9751, Train F1 (Class 1): 0.9743, Train F1 (Class 2): 0.9647\n",
      "Val Loss: 0.3862, Val Acc: 0.9548\n",
      "Val F1 (Class 0): 0.9608, Val F1 (Class 1): 0.9618, Val F1 (Class 2): 0.9418\n",
      "Learning Rate: 0.0001\n"
     ]
    },
    {
     "data": {
      "application/vnd.jupyter.widget-view+json": {
       "model_id": "a7e11fc4453c4c44acad67d9dfd6db06",
       "version_major": 2,
       "version_minor": 0
      },
      "text/plain": [
       "Epoch 12/20:   0%|          | 0/6250 [00:00<?, ?it/s]"
      ]
     },
     "metadata": {},
     "output_type": "display_data"
    },
    {
     "name": "stdout",
     "output_type": "stream",
     "text": [
      "Epoch 12/20:\n",
      "Train Loss: 0.3451, Train Acc: 0.9737\n",
      "Train F1 (Class 0): 0.9771, Train F1 (Class 1): 0.9764, Train F1 (Class 2): 0.9676\n",
      "Val Loss: 0.4011, Val Acc: 0.9477\n",
      "Val F1 (Class 0): 0.9527, Val F1 (Class 1): 0.9589, Val F1 (Class 2): 0.9309\n",
      "Learning Rate: 1e-05\n",
      "Early stopping triggered after epoch 12\n",
      "\n",
      "Performing final evaluation on test set...\n",
      "\n",
      "=== Final Test Evaluation ===\n",
      "Test Loss: 0.4052\n",
      "Test Accuracy: 0.9471\n",
      "Test F1 (Class 0): 0.9530\n",
      "Test F1 (Class 1): 0.9563\n",
      "Test F1 (Class 2): 0.9314\n",
      "\n",
      "Confusion Matrix:\n",
      "[[12962   149   222]\n",
      " [  193 12885   255]\n",
      " [  715   582 12036]]\n",
      "\n",
      "Precision (Class 0, Class 1, Class 2): [0.93453497 0.94631316 0.96187965]\n",
      "Recall (Class 0, Class 1, Class 2): [0.9721743  0.96639916 0.90272257]\n"
     ]
    }
   ],
   "source": [
    "# Cell 6: Run the Pipeline\n",
    "# Initialize model and data\n",
    "model, train_dataloader, val_dataloader, test_dataloader, device = prepare_model_and_data(\n",
    "    train_df=train_df,\n",
    "    val_df=val_df,\n",
    "    test_df=test_df,\n",
    "    sample_size=200000\n",
    ")\n",
    "\n",
    "# Train the model\n",
    "history_df, test_metrics = train_model(\n",
    "    model, \n",
    "    train_dataloader, \n",
    "    val_dataloader, \n",
    "    test_dataloader, \n",
    "    device, \n",
    "    num_epochs=20, \n",
    "    patience=3, \n",
    "    learning_rate=1e-4,\n",
    "    checkpoint_dir='model_checkpoints_half_window_800'\n",
    ")"
   ]
  },
  {
   "cell_type": "code",
   "execution_count": 15,
   "metadata": {},
   "outputs": [
    {
     "data": {
      "image/png": "[encoded data removed]",
      "text/plain": [
       "<Figure size 1500x500 with 2 Axes>"
      ]
     },
     "metadata": {},
     "output_type": "display_data"
    }
   ],
   "source": [
    "# Plot training history\n",
    "import matplotlib.pyplot as plt\n",
    "from matplotlib.ticker import MaxNLocator\n",
    "\n",
    "plt.figure(figsize=(15, 5))\n",
    "\n",
    "plt.subplot(1, 2, 1)\n",
    "plt.plot(history_df['train_loss'], label='Train Loss')\n",
    "plt.plot(history_df['val_loss'], label='Val Loss')\n",
    "plt.title('Loss Over Time')\n",
    "plt.xlabel('Epoch')\n",
    "plt.ylabel('Loss')\n",
    "plt.legend()\n",
    "plt.gca().xaxis.set_major_locator(MaxNLocator(integer=True))\n",
    "\n",
    "plt.subplot(1, 2, 2)\n",
    "plt.plot(history_df['train_acc'], label='Train Acc')\n",
    "plt.plot(history_df['val_acc'], label='Val Acc')\n",
    "plt.title('Accuracy Over Time')\n",
    "plt.xlabel('Epoch')\n",
    "plt.ylabel('Accuracy')\n",
    "plt.legend()\n",
    "plt.gca().xaxis.set_major_locator(MaxNLocator(integer=True))\n",
    "\n",
    "plt.tight_layout()\n",
    "plt.show()"
   ]
  },
  {
   "cell_type": "code",
   "execution_count": 16,
   "metadata": {},
   "outputs": [],
   "source": [
    "def load_best_model_and_evaluate(model, checkpoint_path, test_dataloader, device):\n",
    "    \"\"\"\n",
    "    Load the best model checkpoint and evaluate it on the test set.\n",
    "    \n",
    "    Args:\n",
    "        model: The model architecture\n",
    "        checkpoint_path: Path to the best model checkpoint\n",
    "        test_dataloader: DataLoader for the test set\n",
    "        device: Device to run the model on (cuda or cpu)\n",
    "    \n",
    "    Returns:\n",
    "        test_metrics: Dictionary containing test metrics\n",
    "    \"\"\"\n",
    "    # Load the checkpoint\n",
    "    print(f\"Loading checkpoint from {checkpoint_path}...\")\n",
    "    checkpoint = torch.load(checkpoint_path, map_location=device)\n",
    "    \n",
    "    # Load model state\n",
    "    model.load_state_dict(checkpoint['model_state_dict'])\n",
    "    model = model.to(device)\n",
    "    \n",
    "    # Print checkpoint information\n",
    "    print(f\"Loaded checkpoint from epoch {checkpoint['epoch']}\")\n",
    "    print(f\"Validation loss: {checkpoint['val_loss']:.4f}\")\n",
    "    print(f\"Validation accuracy: {checkpoint['val_acc']:.4f}\")\n",
    "    print(f\"Validation F1 (Class 0): {checkpoint['val_f1_class0']:.4f}\")\n",
    "    print(f\"Validation F1 (Class 1): {checkpoint['val_f1_class1']:.4f}\")\n",
    "    print(f\"Validation F1 (Class 2): {checkpoint['val_f1_class2']:.4f}\")\n",
    "    \n",
    "    # Evaluate on test set\n",
    "    print(\"\\nEvaluating on test set...\")\n",
    "    test_metrics = evaluate_model(model, test_dataloader, device)\n",
    "    \n",
    "    # Print test metrics\n",
    "    print(\"\\n=== Test Evaluation Results ===\")\n",
    "    print(f\"Test Loss: {test_metrics['loss']:.4f}\")\n",
    "    print(f\"Test Accuracy: {test_metrics['accuracy']:.4f}\")\n",
    "    print(f\"Test F1 (Class 0): {test_metrics['f1_scores'][0]:.4f}\")\n",
    "    print(f\"Test F1 (Class 1): {test_metrics['f1_scores'][1]:.4f}\")\n",
    "    print(f\"Test F1 (Class 2): {test_metrics['f1_scores'][2]:.4f}\")\n",
    "    print(\"\\nConfusion Matrix:\")\n",
    "    print(test_metrics['confusion_matrix'])\n",
    "    print(\"\\nPrecision (Class 0, Class 1, Class 2):\", test_metrics['precision'])\n",
    "    print(\"Recall (Class 0, Class 1, Class 2):\", test_metrics['recall'])\n",
    "    \n",
    "    return test_metrics\n",
    "\n",
    "# Example usage:\n",
    "# checkpoint_path = 'model_checkpoints/best_model.pt'\n",
    "# test_metrics = load_best_model_and_evaluate(model, checkpoint_path, test_dataloader, device)"
   ]
  },
  {
   "cell_type": "code",
   "execution_count": 17,
   "metadata": {},
   "outputs": [
    {
     "name": "stdout",
     "output_type": "stream",
     "text": [
      "Loading checkpoint from model_checkpoints/best_model.pt...\n"
     ]
    },
    {
     "name": "stderr",
     "output_type": "stream",
     "text": [
      "/tmp/ipykernel_3491452/194904196.py:16: FutureWarning: You are using `torch.load` with `weights_only=False` (the current default value), which uses the default pickle module implicitly. It is possible to construct malicious pickle data which will execute arbitrary code during unpickling (See https://github.com/pytorch/pytorch/blob/main/SECURITY.md#untrusted-models for more details). In a future release, the default value for `weights_only` will be flipped to `True`. This limits the functions that could be executed during unpickling. Arbitrary objects will no longer be allowed to be loaded via this mode unless they are explicitly allowlisted by the user via `torch.serialization.add_safe_globals`. We recommend you start setting `weights_only=True` for any use case where you don't have full control of the loaded file. Please open an issue on GitHub for any issues related to this experimental feature.\n",
      "  checkpoint = torch.load(checkpoint_path, map_location=device)\n"
     ]
    },
    {
     "name": "stdout",
     "output_type": "stream",
     "text": [
      "Loaded checkpoint from epoch 6\n",
      "Validation loss: 0.3784\n",
      "Validation accuracy: 0.9570\n",
      "Validation F1 (Class 0): 0.9617\n",
      "Validation F1 (Class 1): 0.9634\n",
      "\n",
      "Evaluating on test set...\n",
      "\n",
      "=== Test Evaluation Results ===\n",
      "Test Loss: 0.3775\n",
      "Test Accuracy: 0.9572\n",
      "Test F1 (Class 0): 0.9633\n",
      "Test F1 (Class 1): 0.9612\n",
      "\n",
      "Confusion Matrix:\n",
      "[[12866   154   313]\n",
      " [  147 12809   377]\n",
      " [  367   355 12611]]\n",
      "\n",
      "Precision (Class 0, Class 1): [0.96158445 0.96178105 0.9481242 ]\n",
      "Recall (Class 0, Class 1): [0.96497412 0.96069902 0.94584865]\n"
     ]
    }
   ],
   "source": [
    "# After training, load the best model and evaluate\n",
    "checkpoint_path = 'model_checkpoints/best_model.pt'\n",
    "test_metrics = load_best_model_and_evaluate(model, checkpoint_path, test_dataloader, device)"
   ]
  },
  {
   "cell_type": "code",
   "execution_count": 18,
   "metadata": {},
   "outputs": [
    {
     "data": {
      "image/png": "[encoded data removed]",
      "text/plain": [
       "<Figure size 1000x800 with 2 Axes>"
      ]
     },
     "metadata": {},
     "output_type": "display_data"
    }
   ],
   "source": [
    "import matplotlib.pyplot as plt\n",
    "import seaborn as sns\n",
    "\n",
    "def plot_confusion_matrix(confusion_matrix, class_names=None):\n",
    "    \"\"\"\n",
    "    Plot confusion matrix as a heatmap.\n",
    "    \n",
    "    Args:\n",
    "        confusion_matrix: 2D numpy array of confusion matrix\n",
    "        class_names: List of class names (optional)\n",
    "    \"\"\"\n",
    "    plt.figure(figsize=(10, 8))\n",
    "    sns.heatmap(confusion_matrix, annot=True, fmt='d', cmap='Blues',\n",
    "                xticklabels=class_names, yticklabels=class_names)\n",
    "    plt.xlabel('Predicted')\n",
    "    plt.ylabel('True')\n",
    "    plt.title('Confusion Matrix')\n",
    "    plt.tight_layout()\n",
    "    plt.savefig('confusion_matrix.png')\n",
    "    plt.show()\n",
    "\n",
    "# Plot confusion matrix\n",
    "plot_confusion_matrix(test_metrics['confusion_matrix'], \n",
    "                     class_names=['Class 0 (Donor)', 'Class 1 (Acceptor)', 'Class 2 (Neither)'])"
   ]
  },
  {
   "cell_type": "code",
   "execution_count": null,
   "metadata": {},
   "outputs": [],
   "source": []
  },
  {
   "cell_type": "code",
   "execution_count": null,
   "metadata": {},
   "outputs": [],
   "source": []
  }
 ],
 "metadata": {
  "kernelspec": {
   "display_name": "base",
   "language": "python",
   "name": "python3"
  },
  "language_info": {
   "codemirror_mode": {
    "name": "ipython",
    "version": 3
   },
   "file_extension": ".py",
   "mimetype": "text/x-python",
   "name": "python",
   "nbconvert_exporter": "python",
   "pygments_lexer": "ipython3",
   "version": "3.12.4"
  }
 },
 "nbformat": 4,
 "nbformat_minor": 4
}

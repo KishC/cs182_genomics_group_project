{
 "cells": [
  {
   "cell_type": "code",
   "execution_count": 1,
   "metadata": {},
   "outputs": [],
   "source": [
    "# %pip uninstall torch torchvision torchaudio transformers mamba-ssm tqdm pandas scikit-learn numpy -y\n",
    "# %pip cache purge\n",
    "# %pip install peft torch transformers mamba-ssm tqdm pandas scikit-learn numpy\n"
   ]
  },
  {
   "cell_type": "code",
   "execution_count": 1,
   "metadata": {},
   "outputs": [],
   "source": [
    "import numpy as np\n",
    "import pandas as pd\n",
    "import matplotlib.pyplot as plt\n",
    "from sklearn.model_selection import train_test_split\n",
    "from sklearn.metrics import f1_score, accuracy_score, confusion_matrix"
   ]
  },
  {
   "cell_type": "code",
   "execution_count": 2,
   "metadata": {},
   "outputs": [
    {
     "data": {
      "text/html": [
       "<div>\n",
       "<style scoped>\n",
       "    .dataframe tbody tr th:only-of-type {\n",
       "        vertical-align: middle;\n",
       "    }\n",
       "\n",
       "    .dataframe tbody tr th {\n",
       "        vertical-align: top;\n",
       "    }\n",
       "\n",
       "    .dataframe thead th {\n",
       "        text-align: right;\n",
       "    }\n",
       "</style>\n",
       "<table border=\"1\" class=\"dataframe\">\n",
       "  <thead>\n",
       "    <tr style=\"text-align: right;\">\n",
       "      <th></th>\n",
       "      <th>id</th>\n",
       "      <th>coord</th>\n",
       "      <th>kind</th>\n",
       "      <th>transcript</th>\n",
       "      <th>strand</th>\n",
       "      <th>chrom</th>\n",
       "      <th>start</th>\n",
       "      <th>end</th>\n",
       "      <th>sequence</th>\n",
       "      <th>win_start</th>\n",
       "      <th>win_end</th>\n",
       "      <th>is_truncated</th>\n",
       "      <th>motif_len</th>\n",
       "      <th>motif</th>\n",
       "    </tr>\n",
       "  </thead>\n",
       "  <tbody>\n",
       "    <tr>\n",
       "      <th>0</th>\n",
       "      <td>NC_050096.1_35318_donor</td>\n",
       "      <td>35318</td>\n",
       "      <td>0</td>\n",
       "      <td>XM_020544715.3</td>\n",
       "      <td>+</td>\n",
       "      <td>NC_050096.1</td>\n",
       "      <td>35319</td>\n",
       "      <td>35320</td>\n",
       "      <td>ATTAGCACAAAAAATAACAAAGTTCGGTTTAATTTGCCCAATTTGT...</td>\n",
       "      <td>34518</td>\n",
       "      <td>36120</td>\n",
       "      <td>False</td>\n",
       "      <td>2</td>\n",
       "      <td>GT</td>\n",
       "    </tr>\n",
       "    <tr>\n",
       "      <th>1</th>\n",
       "      <td>NC_050096.1_34607_acceptor</td>\n",
       "      <td>34607</td>\n",
       "      <td>1</td>\n",
       "      <td>XM_020544715.3</td>\n",
       "      <td>+</td>\n",
       "      <td>NC_050096.1</td>\n",
       "      <td>34605</td>\n",
       "      <td>34606</td>\n",
       "      <td>TTTTTTAGAACTCCAAAAACTGATGTAAAAAAGTCAAATAGCTCAG...</td>\n",
       "      <td>33804</td>\n",
       "      <td>35406</td>\n",
       "      <td>False</td>\n",
       "      <td>2</td>\n",
       "      <td>TG</td>\n",
       "    </tr>\n",
       "    <tr>\n",
       "      <th>2</th>\n",
       "      <td>NC_050096.1_36174_donor</td>\n",
       "      <td>36174</td>\n",
       "      <td>0</td>\n",
       "      <td>XM_020544715.3</td>\n",
       "      <td>+</td>\n",
       "      <td>NC_050096.1</td>\n",
       "      <td>36175</td>\n",
       "      <td>36176</td>\n",
       "      <td>TTTGTGTGCCCTACAAGGGAGTGCCAGTATTTATTTTCTTAATTGT...</td>\n",
       "      <td>35374</td>\n",
       "      <td>36976</td>\n",
       "      <td>False</td>\n",
       "      <td>2</td>\n",
       "      <td>GT</td>\n",
       "    </tr>\n",
       "    <tr>\n",
       "      <th>3</th>\n",
       "      <td>NC_050096.1_36037_acceptor</td>\n",
       "      <td>36037</td>\n",
       "      <td>1</td>\n",
       "      <td>XM_020544715.3</td>\n",
       "      <td>+</td>\n",
       "      <td>NC_050096.1</td>\n",
       "      <td>36035</td>\n",
       "      <td>36036</td>\n",
       "      <td>GAGAGCTTGGGAATGCGTCTCTCCTCGGCCAAACTCATCGCGCCTT...</td>\n",
       "      <td>35234</td>\n",
       "      <td>36836</td>\n",
       "      <td>False</td>\n",
       "      <td>2</td>\n",
       "      <td>AG</td>\n",
       "    </tr>\n",
       "    <tr>\n",
       "      <th>4</th>\n",
       "      <td>NC_050096.1_36504_donor</td>\n",
       "      <td>36504</td>\n",
       "      <td>0</td>\n",
       "      <td>XM_020544715.3</td>\n",
       "      <td>+</td>\n",
       "      <td>NC_050096.1</td>\n",
       "      <td>36505</td>\n",
       "      <td>36506</td>\n",
       "      <td>TGGCTTCTGTTGGCCTGGTTTAAGCCTTGCCTCTGTTCAGCTACAC...</td>\n",
       "      <td>35704</td>\n",
       "      <td>37306</td>\n",
       "      <td>False</td>\n",
       "      <td>2</td>\n",
       "      <td>GT</td>\n",
       "    </tr>\n",
       "  </tbody>\n",
       "</table>\n",
       "</div>"
      ],
      "text/plain": [
       "                           id  coord  kind      transcript strand  \\\n",
       "0     NC_050096.1_35318_donor  35318     0  XM_020544715.3      +   \n",
       "1  NC_050096.1_34607_acceptor  34607     1  XM_020544715.3      +   \n",
       "2     NC_050096.1_36174_donor  36174     0  XM_020544715.3      +   \n",
       "3  NC_050096.1_36037_acceptor  36037     1  XM_020544715.3      +   \n",
       "4     NC_050096.1_36504_donor  36504     0  XM_020544715.3      +   \n",
       "\n",
       "         chrom  start    end  \\\n",
       "0  NC_050096.1  35319  35320   \n",
       "1  NC_050096.1  34605  34606   \n",
       "2  NC_050096.1  36175  36176   \n",
       "3  NC_050096.1  36035  36036   \n",
       "4  NC_050096.1  36505  36506   \n",
       "\n",
       "                                            sequence  win_start  win_end  \\\n",
       "0  ATTAGCACAAAAAATAACAAAGTTCGGTTTAATTTGCCCAATTTGT...      34518    36120   \n",
       "1  TTTTTTAGAACTCCAAAAACTGATGTAAAAAAGTCAAATAGCTCAG...      33804    35406   \n",
       "2  TTTGTGTGCCCTACAAGGGAGTGCCAGTATTTATTTTCTTAATTGT...      35374    36976   \n",
       "3  GAGAGCTTGGGAATGCGTCTCTCCTCGGCCAAACTCATCGCGCCTT...      35234    36836   \n",
       "4  TGGCTTCTGTTGGCCTGGTTTAAGCCTTGCCTCTGTTCAGCTACAC...      35704    37306   \n",
       "\n",
       "   is_truncated  motif_len motif  \n",
       "0         False          2    GT  \n",
       "1         False          2    TG  \n",
       "2         False          2    GT  \n",
       "3         False          2    AG  \n",
       "4         False          2    GT  "
      ]
     },
     "execution_count": 2,
     "metadata": {},
     "output_type": "execute_result"
    }
   ],
   "source": [
    "splice_df = pd.read_csv('../data/Zea mayes/splice_sites_full_centered_balanced_correct-GCF_902167145-half_window-800.csv')\n",
    "splice_df.head()"
   ]
  },
  {
   "cell_type": "code",
   "execution_count": 3,
   "metadata": {},
   "outputs": [],
   "source": [
    "# Split data with stratification\n",
    "train_df, temp_df = train_test_split(splice_df, test_size=0.3, stratify=splice_df['kind'], random_state=42)\n",
    "val_df, test_df = train_test_split(temp_df, test_size=0.5, stratify=temp_df['kind'], random_state=42)"
   ]
  },
  {
   "cell_type": "markdown",
   "metadata": {},
   "source": [
    "## Full Pipeline"
   ]
  },
  {
   "cell_type": "code",
   "execution_count": 4,
   "metadata": {},
   "outputs": [
    {
     "name": "stdout",
     "output_type": "stream",
     "text": [
      "Train set size: 1425512\n",
      "Validation set size: 305467\n"
     ]
    }
   ],
   "source": [
    "print(f\"Train set size: {len(train_df)}\")\n",
    "print(f\"Validation set size: {len(val_df)}\")"
   ]
  },
  {
   "cell_type": "code",
   "execution_count": 5,
   "metadata": {},
   "outputs": [
    {
     "name": "stdout",
     "output_type": "stream",
     "text": [
      "PyTorch version: 2.6.0+cu124\n",
      "CUDA available: True\n",
      "CUDA version: 12.4\n"
     ]
    }
   ],
   "source": [
    "import torch\n",
    "print(f\"PyTorch version: {torch.__version__}\")\n",
    "print(f\"CUDA available: {torch.cuda.is_available()}\")\n",
    "print(f\"CUDA version: {torch.version.cuda}\")"
   ]
  },
  {
   "cell_type": "code",
   "execution_count": 6,
   "metadata": {},
   "outputs": [],
   "source": [
    "# Cell 1: Imports and Setup\n",
    "import torch\n",
    "import torch.nn as nn\n",
    "from transformers import AutoTokenizer, AutoModel, AutoConfig\n",
    "from mamba_ssm import Mamba\n",
    "from torch.utils.data import Dataset, DataLoader\n",
    "from tqdm.auto import tqdm\n",
    "import pandas as pd\n",
    "from sklearn.metrics import f1_score, confusion_matrix, precision_score, recall_score\n",
    "import numpy as np"
   ]
  },
  {
   "cell_type": "code",
   "execution_count": 7,
   "metadata": {},
   "outputs": [],
   "source": [
    "import os\n",
    "os.environ[\"TOKENIZERS_PARALLELISM\"] = \"false\""
   ]
  },
  {
   "cell_type": "code",
   "execution_count": 8,
   "metadata": {},
   "outputs": [],
   "source": [
    "# Cell 2: Dataset Class (Modified)\n",
    "class DNASequenceDataset(Dataset):\n",
    "    def __init__(self, sequences, labels, max_length=1650):\n",
    "        self.sequences = sequences\n",
    "        self.labels = torch.tensor(labels, dtype=torch.long)\n",
    "        self.max_length = max_length\n",
    "        self.nuc_to_idx = {'A': 0, 'C': 1, 'G': 2, 'T': 3, 'N': 4, 'P': 5}\n",
    "        \n",
    "        self.seq_encodings = []\n",
    "        for seq in sequences:\n",
    "            encoding = [self.nuc_to_idx.get(nuc, self.nuc_to_idx['N']) for nuc in seq[:max_length]]\n",
    "            encoding += [self.nuc_to_idx['P']] * (max_length - len(encoding))\n",
    "            self.seq_encodings.append(torch.tensor(encoding, dtype=torch.long))\n",
    "    \n",
    "    def __len__(self):\n",
    "        return len(self.labels)\n",
    "    \n",
    "    def __getitem__(self, idx):\n",
    "        return {\n",
    "            'sequence': self.seq_encodings[idx],\n",
    "            'label': self.labels[idx]\n",
    "        }"
   ]
  },
  {
   "cell_type": "code",
   "execution_count": 9,
   "metadata": {},
   "outputs": [],
   "source": [
    "class MambaSequenceClassifier(nn.Module):\n",
    "    def __init__(self, d_model=128, d_state=16, d_conv=4, expand=2, num_mamba_layers=4, n_classes=3, max_length=1650):\n",
    "        super().__init__()\n",
    "        self.nuc_embedding = nn.Embedding(6, d_model)  # ACGTNP to d_model\n",
    "        self.pos_embedding = nn.Embedding(max_length, d_model)  # Learnable positional embeddings\n",
    "\n",
    "        nn.init.xavier_uniform_(self.nuc_embedding.weight)\n",
    "        nn.init.xavier_uniform_(self.pos_embedding.weight)\n",
    "        \n",
    "        self.mamba = nn.Sequential(*[\n",
    "            nn.Sequential(\n",
    "                nn.LayerNorm(d_model),\n",
    "                Mamba(\n",
    "                    d_model=d_model,\n",
    "                    d_state=d_state,\n",
    "                    d_conv=d_conv,\n",
    "                    expand=expand,\n",
    "                    use_fast_path=True\n",
    "                ),\n",
    "                nn.Dropout(0.1),\n",
    "            ) for _ in range(num_mamba_layers)\n",
    "        ])\n",
    "\n",
    "        self.classifier = nn.Sequential(\n",
    "            nn.LayerNorm(d_model),\n",
    "            nn.Dropout(0.1),\n",
    "            nn.Linear(d_model, n_classes)\n",
    "        )\n",
    "        \n",
    "        # # simple scalar attention over time\n",
    "        # self.attention_pool = nn.Sequential(\n",
    "        #     nn.Linear(d_model, 1),\n",
    "        #     nn.Softmax(dim=1)\n",
    "        # )\n",
    "\n",
    "        # Mini attention MLP\n",
    "        self.attention_pool = nn.Sequential(\n",
    "            nn.LayerNorm(d_model),\n",
    "            nn.Linear(d_model, d_model // 2),\n",
    "            nn.Tanh(),\n",
    "            nn.Linear(d_model // 2, 1),\n",
    "            nn.Softmax(dim=1)\n",
    "        )\n",
    "            \n",
    "    def forward(self, sequence, labels=None):\n",
    "        pos_ids = torch.arange(sequence.size(1), device=sequence.device).unsqueeze(0).expand(sequence.size(0), -1)\n",
    "        x = self.nuc_embedding(sequence) + self.pos_embedding(pos_ids)  # Add position to nucleotide embeddings\n",
    "        x = self.mamba(x)\n",
    "        weights = self.attention_pool(x)  # [B, T, 1]\n",
    "        x = (x * weights).sum(dim=1)\n",
    "        logits = self.classifier(x)\n",
    "        \n",
    "        if labels is not None:\n",
    "            loss = nn.CrossEntropyLoss(label_smoothing=0.1)(logits, labels)\n",
    "            return loss, logits\n",
    "        return None, logits\n"
   ]
  },
  {
   "cell_type": "code",
   "execution_count": 10,
   "metadata": {},
   "outputs": [],
   "source": [
    "# Cell 4: Model Initialization (Modified)\n",
    "def prepare_model_and_data(train_df, val_df, test_df, sample_size=5000, max_length=1650, use_full_data=False):\n",
    "    if use_full_data:\n",
    "        train_sample = train_df\n",
    "        val_sample = val_df\n",
    "        test_sample = test_df\n",
    "    else:\n",
    "        train_sample = train_df.groupby('kind', group_keys=False).apply(\n",
    "            lambda x: x.sample(n=min(len(x), sample_size // 3))\n",
    "        ).reset_index(drop=True)\n",
    "\n",
    "        val_sample = val_df.groupby('kind', group_keys=False).apply(\n",
    "            lambda x: x.sample(n=min(len(x), sample_size // 15))\n",
    "        ).reset_index(drop=True)\n",
    "\n",
    "        test_sample = test_df.groupby('kind', group_keys=False).apply(\n",
    "            lambda x: x.sample(n=min(len(x), sample_size // 15))\n",
    "        ).reset_index(drop=True)\n",
    "\n",
    "    train_dataset = DNASequenceDataset(\n",
    "        sequences=train_sample['sequence'].tolist(),\n",
    "        labels=train_sample['kind'].tolist(),\n",
    "        max_length=max_length\n",
    "    )\n",
    "\n",
    "    val_dataset = DNASequenceDataset(\n",
    "        sequences=val_sample['sequence'].tolist(),\n",
    "        labels=val_sample['kind'].tolist(),\n",
    "        max_length=max_length\n",
    "    )\n",
    "    \n",
    "    test_dataset = DNASequenceDataset(\n",
    "        sequences=test_sample['sequence'].tolist(),\n",
    "        labels=test_sample['kind'].tolist(),\n",
    "        max_length=max_length\n",
    "    )\n",
    "    \n",
    "    train_dataloader = DataLoader(train_dataset, batch_size=32, shuffle=True)\n",
    "    val_dataloader = DataLoader(val_dataset, batch_size=32)\n",
    "    test_dataloader = DataLoader(test_dataset, batch_size=32)\n",
    "    \n",
    "    device = torch.device(\"cuda\" if torch.cuda.is_available() else \"cpu\")\n",
    "    model = MambaSequenceClassifier(\n",
    "        d_model=128,\n",
    "        d_state=16,\n",
    "        d_conv=4,\n",
    "        expand=1,\n",
    "        num_mamba_layers=4,\n",
    "        n_classes=3\n",
    "    ).to(device)\n",
    "    \n",
    "    return model, train_dataloader, val_dataloader, test_dataloader, device\n",
    "\n"
   ]
  },
  {
   "cell_type": "code",
   "execution_count": 11,
   "metadata": {},
   "outputs": [],
   "source": [
    "def evaluate_model(model, dataloader, device):\n",
    "    \"\"\"\n",
    "    Evaluate the model and return comprehensive metrics.\n",
    "    \"\"\"\n",
    "    model.eval()\n",
    "    total_loss = 0\n",
    "    correct = 0\n",
    "    total = 0\n",
    "    all_preds = []\n",
    "    all_labels = []\n",
    "    \n",
    "    with torch.no_grad():\n",
    "        for batch in dataloader:\n",
    "            sequence = batch['sequence'].to(device)\n",
    "            labels = batch['label'].to(device)\n",
    "            \n",
    "            loss, logits = model(sequence, labels)\n",
    "            total_loss += loss.item()\n",
    "            \n",
    "            predictions = torch.argmax(logits, dim=1)\n",
    "            correct += (predictions == labels).sum().item()\n",
    "            total += labels.size(0)\n",
    "            \n",
    "            all_preds.extend(predictions.cpu().numpy())\n",
    "            all_labels.extend(labels.cpu().numpy())\n",
    "    \n",
    "    avg_loss = total_loss / len(dataloader)\n",
    "    accuracy = correct / total\n",
    "    \n",
    "    # Calculate F1 scores for each class\n",
    "    f1_scores = f1_score(all_labels, all_preds, average=None)\n",
    "    \n",
    "    # Calculate confusion matrix\n",
    "    cm = confusion_matrix(all_labels, all_preds)\n",
    "    \n",
    "    # Calculate precision and recall\n",
    "    precision = precision_score(all_labels, all_preds, average=None)\n",
    "    recall = recall_score(all_labels, all_preds, average=None)\n",
    "    \n",
    "    metrics = {\n",
    "        'loss': avg_loss,\n",
    "        'accuracy': accuracy,\n",
    "        'f1_scores': f1_scores,\n",
    "        'confusion_matrix': cm,\n",
    "        'precision': precision,\n",
    "        'recall': recall\n",
    "    }\n",
    "    \n",
    "    return metrics"
   ]
  },
  {
   "cell_type": "code",
   "execution_count": 12,
   "metadata": {},
   "outputs": [],
   "source": [
    "def train_model(model, train_dataloader, val_dataloader, test_dataloader, device, \n",
    "                num_epochs=10, patience=3, learning_rate=1e-4,\n",
    "                checkpoint_dir='checkpoints'):\n",
    "    \n",
    "    # Create checkpoint directory if it doesn't exist\n",
    "    os.makedirs(checkpoint_dir, exist_ok=True)\n",
    "    \n",
    "    # Initialize optimizer and tracking variables\n",
    "    optimizer = torch.optim.AdamW(model.parameters(), lr=learning_rate, weight_decay=0.01)\n",
    "    scheduler = torch.optim.lr_scheduler.ReduceLROnPlateau(optimizer, mode='min', patience=2)\n",
    "    \n",
    "    best_val_loss = float('inf')\n",
    "    patience_counter = 0\n",
    "    best_model_state = None\n",
    "    \n",
    "    # Initialize tracking lists with F1 scores\n",
    "    history = {\n",
    "        'epoch': [], 'train_loss': [], 'val_loss': [],\n",
    "        'train_acc': [], 'val_acc': [], 'learning_rate': [],\n",
    "        'train_f1_class0': [], 'train_f1_class1': [],'train_f1_class2': [],\n",
    "        'val_f1_class0': [], 'val_f1_class1': [], 'val_f1_class2': []\n",
    "    }\n",
    "    \n",
    "    for epoch in range(num_epochs):\n",
    "        # Training phase\n",
    "        model.train()\n",
    "        total_train_loss = 0\n",
    "        train_correct = 0\n",
    "        train_total = 0\n",
    "        train_preds = []\n",
    "        train_labels = []\n",
    "        \n",
    "        for batch in tqdm(train_dataloader, desc=f'Epoch {epoch + 1}/{num_epochs}'):\n",
    "            sequence = batch['sequence'].to(device)\n",
    "            labels = batch['label'].to(device)\n",
    "            \n",
    "            optimizer.zero_grad()\n",
    "            loss, logits = model(sequence, labels)\n",
    "            \n",
    "            loss.backward()\n",
    "            torch.nn.utils.clip_grad_norm_(model.parameters(), 1.0)\n",
    "            optimizer.step()\n",
    "            \n",
    "            total_train_loss += loss.item()\n",
    "            \n",
    "            # Calculate accuracy and store predictions\n",
    "            predictions = torch.argmax(logits, dim=1)\n",
    "            train_correct += (predictions == labels).sum().item()\n",
    "            train_total += labels.size(0)\n",
    "            train_preds.extend(predictions.cpu().numpy())\n",
    "            train_labels.extend(labels.cpu().numpy())\n",
    "        \n",
    "        avg_train_loss = total_train_loss / len(train_dataloader)\n",
    "        train_accuracy = train_correct / train_total\n",
    "        \n",
    "        # Calculate F1 scores for training\n",
    "        train_f1_scores = f1_score(train_labels, train_preds, average=None)\n",
    "        \n",
    "        # Validation phase\n",
    "        model.eval()\n",
    "        total_val_loss = 0\n",
    "        val_correct = 0\n",
    "        val_total = 0\n",
    "        val_preds = []\n",
    "        val_labels = []\n",
    "        \n",
    "        with torch.no_grad():\n",
    "            for batch in val_dataloader:\n",
    "                sequence = batch['sequence'].to(device)\n",
    "                labels = batch['label'].to(device)\n",
    "                \n",
    "                loss, logits = model(sequence, labels)\n",
    "                total_val_loss += loss.item()\n",
    "                \n",
    "                # Calculate accuracy and store predictions\n",
    "                predictions = torch.argmax(logits, dim=1)\n",
    "                val_correct += (predictions == labels).sum().item()\n",
    "                val_total += labels.size(0)\n",
    "                val_preds.extend(predictions.cpu().numpy())\n",
    "                val_labels.extend(labels.cpu().numpy())\n",
    "        \n",
    "        avg_val_loss = total_val_loss / len(val_dataloader)\n",
    "        val_accuracy = val_correct / val_total\n",
    "        \n",
    "        # Calculate F1 scores for validation\n",
    "        val_f1_scores = f1_score(val_labels, val_preds, average=None)\n",
    "        \n",
    "        # Update learning rate\n",
    "        scheduler.step(avg_val_loss)\n",
    "        current_lr = optimizer.param_groups[0]['lr']\n",
    "        \n",
    "        # Save history with F1 scores\n",
    "        history['epoch'].append(epoch + 1)\n",
    "        history['train_loss'].append(avg_train_loss)\n",
    "        history['val_loss'].append(avg_val_loss)\n",
    "        history['train_acc'].append(train_accuracy)\n",
    "        history['val_acc'].append(val_accuracy)\n",
    "        history['learning_rate'].append(current_lr)\n",
    "        history['train_f1_class0'].append(train_f1_scores[0])\n",
    "        history['train_f1_class1'].append(train_f1_scores[1])\n",
    "        history['train_f1_class2'].append(train_f1_scores[2])\n",
    "        history['val_f1_class0'].append(val_f1_scores[0])\n",
    "        history['val_f1_class1'].append(val_f1_scores[1])\n",
    "        history['val_f1_class2'].append(val_f1_scores[2])\n",
    "        \n",
    "        # Print metrics\n",
    "        print(f'Epoch {epoch + 1}/{num_epochs}:')\n",
    "        print(f'Train Loss: {avg_train_loss:.4f}, Train Acc: {train_accuracy:.4f}')\n",
    "        print(f'Train F1 (Class 0): {train_f1_scores[0]:.4f}, Train F1 (Class 1): {train_f1_scores[1]:.4f}, Train F1 (Class 2): {train_f1_scores[2]:.4f}')\n",
    "        print(f'Val Loss: {avg_val_loss:.4f}, Val Acc: {val_accuracy:.4f}')\n",
    "        print(f'Val F1 (Class 0): {val_f1_scores[0]:.4f}, Val F1 (Class 1): {val_f1_scores[1]:.4f}, Val F1 (Class 2): {val_f1_scores[2]:.4f}')\n",
    "        print(f'Learning Rate: {current_lr}')\n",
    "        \n",
    "        # Save checkpoint for this epoch\n",
    "        checkpoint = {\n",
    "            'epoch': epoch + 1,\n",
    "            'model_state_dict': model.state_dict(),\n",
    "            'optimizer_state_dict': optimizer.state_dict(),\n",
    "            'scheduler_state_dict': scheduler.state_dict(),\n",
    "            'train_loss': avg_train_loss,\n",
    "            'val_loss': avg_val_loss,\n",
    "            'train_acc': train_accuracy,\n",
    "            'val_acc': val_accuracy,\n",
    "            'train_f1_class0': train_f1_scores[0],\n",
    "            'train_f1_class1': train_f1_scores[1],\n",
    "            'train_f1_class2': train_f1_scores[2],\n",
    "            'val_f1_class0': val_f1_scores[0],\n",
    "            'val_f1_class1': val_f1_scores[1],\n",
    "            'val_f1_class2': val_f1_scores[2],\n",
    "            'learning_rate': current_lr\n",
    "        }\n",
    "        torch.save(checkpoint, os.path.join(checkpoint_dir, f'checkpoint_epoch_{epoch + 1}.pt'))\n",
    "        \n",
    "        # Early stopping check\n",
    "        if avg_val_loss < best_val_loss:\n",
    "            best_val_loss = avg_val_loss\n",
    "            best_model_state = model.state_dict().copy()\n",
    "            patience_counter = 0\n",
    "            \n",
    "            # Save best model\n",
    "            best_checkpoint = {\n",
    "                'epoch': epoch + 1,\n",
    "                'model_state_dict': model.state_dict(),\n",
    "                'optimizer_state_dict': optimizer.state_dict(),\n",
    "                'scheduler_state_dict': scheduler.state_dict(),\n",
    "                'train_loss': avg_train_loss,\n",
    "                'val_loss': avg_val_loss,\n",
    "                'train_acc': train_accuracy,\n",
    "                'val_acc': val_accuracy,\n",
    "                'train_f1_class0': train_f1_scores[0],\n",
    "                'train_f1_class1': train_f1_scores[1],\n",
    "                'train_f1_class2': train_f1_scores[2],\n",
    "                'val_f1_class0': val_f1_scores[0],\n",
    "                'val_f1_class1': val_f1_scores[1],\n",
    "                'val_f1_class2': val_f1_scores[2],\n",
    "                'learning_rate': current_lr\n",
    "            }\n",
    "            torch.save(best_checkpoint, os.path.join(checkpoint_dir, 'best_model.pt'))\n",
    "        else:\n",
    "            patience_counter += 1\n",
    "            \n",
    "        if patience_counter >= patience:\n",
    "            print(f'Early stopping triggered after epoch {epoch + 1}')\n",
    "            break\n",
    "    \n",
    "    # Load best model\n",
    "    if best_model_state is not None:\n",
    "        model.load_state_dict(best_model_state)\n",
    "    \n",
    "    # Final evaluation on test set\n",
    "    print(\"\\nPerforming final evaluation on test set...\")\n",
    "    test_metrics = evaluate_model(model, test_dataloader, device)\n",
    "    \n",
    "    print(\"\\n=== Final Test Evaluation ===\")\n",
    "    print(f\"Test Loss: {test_metrics['loss']:.4f}\")\n",
    "    print(f\"Test Accuracy: {test_metrics['accuracy']:.4f}\")\n",
    "    print(f\"Test F1 (Class 0): {test_metrics['f1_scores'][0]:.4f}\")\n",
    "    print(f\"Test F1 (Class 1): {test_metrics['f1_scores'][1]:.4f}\")\n",
    "    print(f\"Test F1 (Class 2): {test_metrics['f1_scores'][2]:.4f}\")\n",
    "    print(\"\\nConfusion Matrix:\")\n",
    "    print(test_metrics['confusion_matrix'])\n",
    "    print(\"\\nPrecision (Class 0, Class 1, Class 2):\", test_metrics['precision'])\n",
    "    print(\"Recall (Class 0, Class 1, Class 2):\", test_metrics['recall'])\n",
    "    \n",
    "    # Save final model with test metrics\n",
    "    final_checkpoint = {\n",
    "        'epoch': num_epochs,\n",
    "        'model_state_dict': model.state_dict(),\n",
    "        'optimizer_state_dict': optimizer.state_dict(),\n",
    "        'scheduler_state_dict': scheduler.state_dict(),\n",
    "        'train_loss': avg_train_loss,\n",
    "        'val_loss': avg_val_loss,\n",
    "        'train_acc': train_accuracy,\n",
    "        'val_acc': val_accuracy,\n",
    "        'train_f1_class0': train_f1_scores[0],\n",
    "        'train_f1_class1': train_f1_scores[1],\n",
    "        'train_f1_class2': train_f1_scores[2],\n",
    "        'val_f1_class0': val_f1_scores[0],\n",
    "        'val_f1_class1': val_f1_scores[1],\n",
    "        'val_f1_class2': val_f1_scores[2],\n",
    "        'learning_rate': current_lr,\n",
    "        'test_metrics': test_metrics\n",
    "    }\n",
    "    torch.save(final_checkpoint, os.path.join(checkpoint_dir, 'final_model.pt'))\n",
    "    \n",
    "    # Convert history to DataFrame\n",
    "    history_df = pd.DataFrame(history)\n",
    "    return history_df, test_metrics"
   ]
  },
  {
   "cell_type": "code",
   "execution_count": 14,
   "metadata": {},
   "outputs": [
    {
     "data": {
      "application/vnd.jupyter.widget-view+json": {
       "model_id": "bd587eb1a80143c99457a6ebb93a2f91",
       "version_major": 2,
       "version_minor": 0
      },
      "text/plain": [
       "Epoch 1/20:   0%|          | 0/44548 [00:00<?, ?it/s]"
      ]
     },
     "metadata": {},
     "output_type": "display_data"
    },
    {
     "name": "stdout",
     "output_type": "stream",
     "text": [
      "Epoch 1/20:\n",
      "Train Loss: 0.4223, Train Acc: 0.9299\n",
      "Train F1 (Class 0): 0.9150, Train F1 (Class 1): 0.9162, Train F1 (Class 2): 0.9441\n",
      "Val Loss: 0.3738, Val Acc: 0.9573\n",
      "Val F1 (Class 0): 0.9484, Val F1 (Class 1): 0.9550, Val F1 (Class 2): 0.9631\n",
      "Learning Rate: 0.0001\n"
     ]
    },
    {
     "data": {
      "application/vnd.jupyter.widget-view+json": {
       "model_id": "d7ca82525cf54e0ab42bf007992807f3",
       "version_major": 2,
       "version_minor": 0
      },
      "text/plain": [
       "Epoch 2/20:   0%|          | 0/44548 [00:00<?, ?it/s]"
      ]
     },
     "metadata": {},
     "output_type": "display_data"
    },
    {
     "name": "stdout",
     "output_type": "stream",
     "text": [
      "Epoch 2/20:\n",
      "Train Loss: 0.3658, Train Acc: 0.9618\n",
      "Train F1 (Class 0): 0.9574, Train F1 (Class 1): 0.9578, Train F1 (Class 2): 0.9660\n",
      "Val Loss: 0.3604, Val Acc: 0.9642\n",
      "Val F1 (Class 0): 0.9589, Val F1 (Class 1): 0.9619, Val F1 (Class 2): 0.9681\n",
      "Learning Rate: 0.0001\n"
     ]
    },
    {
     "data": {
      "application/vnd.jupyter.widget-view+json": {
       "model_id": "e7c373d4406c491f8300cfe7757a5b8c",
       "version_major": 2,
       "version_minor": 0
      },
      "text/plain": [
       "Epoch 3/20:   0%|          | 0/44548 [00:00<?, ?it/s]"
      ]
     },
     "metadata": {},
     "output_type": "display_data"
    },
    {
     "name": "stdout",
     "output_type": "stream",
     "text": [
      "Epoch 3/20:\n",
      "Train Loss: 0.3560, Train Acc: 0.9670\n",
      "Train F1 (Class 0): 0.9636, Train F1 (Class 1): 0.9632, Train F1 (Class 2): 0.9706\n",
      "Val Loss: 0.3532, Val Acc: 0.9682\n",
      "Val F1 (Class 0): 0.9652, Val F1 (Class 1): 0.9648, Val F1 (Class 2): 0.9714\n",
      "Learning Rate: 0.0001\n"
     ]
    },
    {
     "data": {
      "application/vnd.jupyter.widget-view+json": {
       "model_id": "324b836a67cf4b44a766d87d92e2cf4b",
       "version_major": 2,
       "version_minor": 0
      },
      "text/plain": [
       "Epoch 4/20:   0%|          | 0/44548 [00:00<?, ?it/s]"
      ]
     },
     "metadata": {},
     "output_type": "display_data"
    },
    {
     "name": "stdout",
     "output_type": "stream",
     "text": [
      "Epoch 4/20:\n",
      "Train Loss: 0.3508, Train Acc: 0.9697\n",
      "Train F1 (Class 0): 0.9666, Train F1 (Class 1): 0.9663, Train F1 (Class 2): 0.9729\n",
      "Val Loss: 0.3539, Val Acc: 0.9676\n",
      "Val F1 (Class 0): 0.9640, Val F1 (Class 1): 0.9647, Val F1 (Class 2): 0.9709\n",
      "Learning Rate: 0.0001\n"
     ]
    },
    {
     "data": {
      "application/vnd.jupyter.widget-view+json": {
       "model_id": "626a86d096144672a79344684fef6d17",
       "version_major": 2,
       "version_minor": 0
      },
      "text/plain": [
       "Epoch 5/20:   0%|          | 0/44548 [00:00<?, ?it/s]"
      ]
     },
     "metadata": {},
     "output_type": "display_data"
    },
    {
     "name": "stdout",
     "output_type": "stream",
     "text": [
      "Epoch 5/20:\n",
      "Train Loss: 0.3475, Train Acc: 0.9715\n",
      "Train F1 (Class 0): 0.9689, Train F1 (Class 1): 0.9681, Train F1 (Class 2): 0.9745\n",
      "Val Loss: 0.3516, Val Acc: 0.9688\n",
      "Val F1 (Class 0): 0.9646, Val F1 (Class 1): 0.9667, Val F1 (Class 2): 0.9720\n",
      "Learning Rate: 0.0001\n"
     ]
    },
    {
     "data": {
      "application/vnd.jupyter.widget-view+json": {
       "model_id": "44d4ca5b7afe4a8eaef2578c6bbb8ad7",
       "version_major": 2,
       "version_minor": 0
      },
      "text/plain": [
       "Epoch 6/20:   0%|          | 0/44548 [00:00<?, ?it/s]"
      ]
     },
     "metadata": {},
     "output_type": "display_data"
    },
    {
     "name": "stdout",
     "output_type": "stream",
     "text": [
      "Epoch 6/20:\n",
      "Train Loss: 0.3446, Train Acc: 0.9730\n",
      "Train F1 (Class 0): 0.9705, Train F1 (Class 1): 0.9698, Train F1 (Class 2): 0.9759\n",
      "Val Loss: 0.3497, Val Acc: 0.9702\n",
      "Val F1 (Class 0): 0.9684, Val F1 (Class 1): 0.9661, Val F1 (Class 2): 0.9732\n",
      "Learning Rate: 0.0001\n"
     ]
    },
    {
     "data": {
      "application/vnd.jupyter.widget-view+json": {
       "model_id": "b45b76c7b5d744e0acd202d54a732268",
       "version_major": 2,
       "version_minor": 0
      },
      "text/plain": [
       "Epoch 7/20:   0%|          | 0/44548 [00:00<?, ?it/s]"
      ]
     },
     "metadata": {},
     "output_type": "display_data"
    },
    {
     "name": "stdout",
     "output_type": "stream",
     "text": [
      "Epoch 7/20:\n",
      "Train Loss: 0.3424, Train Acc: 0.9744\n",
      "Train F1 (Class 0): 0.9720, Train F1 (Class 1): 0.9714, Train F1 (Class 2): 0.9771\n",
      "Val Loss: 0.3500, Val Acc: 0.9703\n",
      "Val F1 (Class 0): 0.9678, Val F1 (Class 1): 0.9671, Val F1 (Class 2): 0.9732\n",
      "Learning Rate: 0.0001\n"
     ]
    },
    {
     "data": {
      "application/vnd.jupyter.widget-view+json": {
       "model_id": "4bd0c60dc554409782983c8191e7040d",
       "version_major": 2,
       "version_minor": 0
      },
      "text/plain": [
       "Epoch 8/20:   0%|          | 0/44548 [00:00<?, ?it/s]"
      ]
     },
     "metadata": {},
     "output_type": "display_data"
    },
    {
     "ename": "KeyboardInterrupt",
     "evalue": "",
     "output_type": "error",
     "traceback": [
      "\u001b[0;31m---------------------------------------------------------------------------\u001b[0m",
      "\u001b[0;31mKeyboardInterrupt\u001b[0m                         Traceback (most recent call last)",
      "Cell \u001b[0;32mIn[14], line 12\u001b[0m\n\u001b[1;32m      3\u001b[0m model, train_dataloader, val_dataloader, test_dataloader, device \u001b[38;5;241m=\u001b[39m prepare_model_and_data(\n\u001b[1;32m      4\u001b[0m     train_df\u001b[38;5;241m=\u001b[39mtrain_df,\n\u001b[1;32m      5\u001b[0m     val_df\u001b[38;5;241m=\u001b[39mval_df,\n\u001b[0;32m   (...)\u001b[0m\n\u001b[1;32m      8\u001b[0m     \u001b[38;5;66;03m# sample_size=2000\u001b[39;00m\n\u001b[1;32m      9\u001b[0m )\n\u001b[1;32m     11\u001b[0m \u001b[38;5;66;03m# Train the model\u001b[39;00m\n\u001b[0;32m---> 12\u001b[0m history_df, test_metrics \u001b[38;5;241m=\u001b[39m \u001b[43mtrain_model\u001b[49m\u001b[43m(\u001b[49m\n\u001b[1;32m     13\u001b[0m \u001b[43m    \u001b[49m\u001b[43mmodel\u001b[49m\u001b[43m,\u001b[49m\u001b[43m \u001b[49m\n\u001b[1;32m     14\u001b[0m \u001b[43m    \u001b[49m\u001b[43mtrain_dataloader\u001b[49m\u001b[43m,\u001b[49m\u001b[43m \u001b[49m\n\u001b[1;32m     15\u001b[0m \u001b[43m    \u001b[49m\u001b[43mval_dataloader\u001b[49m\u001b[43m,\u001b[49m\u001b[43m \u001b[49m\n\u001b[1;32m     16\u001b[0m \u001b[43m    \u001b[49m\u001b[43mtest_dataloader\u001b[49m\u001b[43m,\u001b[49m\u001b[43m \u001b[49m\n\u001b[1;32m     17\u001b[0m \u001b[43m    \u001b[49m\u001b[43mdevice\u001b[49m\u001b[43m,\u001b[49m\u001b[43m \u001b[49m\n\u001b[1;32m     18\u001b[0m \u001b[43m    \u001b[49m\u001b[43mnum_epochs\u001b[49m\u001b[38;5;241;43m=\u001b[39;49m\u001b[38;5;241;43m20\u001b[39;49m\u001b[43m,\u001b[49m\u001b[43m \u001b[49m\n\u001b[1;32m     19\u001b[0m \u001b[43m    \u001b[49m\u001b[43mpatience\u001b[49m\u001b[38;5;241;43m=\u001b[39;49m\u001b[38;5;241;43m6\u001b[39;49m\u001b[43m,\u001b[49m\u001b[43m \u001b[49m\n\u001b[1;32m     20\u001b[0m \u001b[43m    \u001b[49m\u001b[43mlearning_rate\u001b[49m\u001b[38;5;241;43m=\u001b[39;49m\u001b[38;5;241;43m1e-4\u001b[39;49m\u001b[43m,\u001b[49m\n\u001b[1;32m     21\u001b[0m \u001b[43m    \u001b[49m\u001b[43mcheckpoint_dir\u001b[49m\u001b[38;5;241;43m=\u001b[39;49m\u001b[38;5;124;43m'\u001b[39;49m\u001b[38;5;124;43mmodel_checkpoints_half_window_800\u001b[39;49m\u001b[38;5;124;43m'\u001b[39;49m\n\u001b[1;32m     22\u001b[0m \u001b[43m)\u001b[49m\n",
      "Cell \u001b[0;32mIn[13], line 44\u001b[0m, in \u001b[0;36mtrain_model\u001b[0;34m(model, train_dataloader, val_dataloader, test_dataloader, device, num_epochs, patience, learning_rate, checkpoint_dir)\u001b[0m\n\u001b[1;32m     41\u001b[0m torch\u001b[38;5;241m.\u001b[39mnn\u001b[38;5;241m.\u001b[39mutils\u001b[38;5;241m.\u001b[39mclip_grad_norm_(model\u001b[38;5;241m.\u001b[39mparameters(), \u001b[38;5;241m1.0\u001b[39m)\n\u001b[1;32m     42\u001b[0m optimizer\u001b[38;5;241m.\u001b[39mstep()\n\u001b[0;32m---> 44\u001b[0m total_train_loss \u001b[38;5;241m+\u001b[39m\u001b[38;5;241m=\u001b[39m \u001b[43mloss\u001b[49m\u001b[38;5;241;43m.\u001b[39;49m\u001b[43mitem\u001b[49m\u001b[43m(\u001b[49m\u001b[43m)\u001b[49m\n\u001b[1;32m     46\u001b[0m \u001b[38;5;66;03m# Calculate accuracy and store predictions\u001b[39;00m\n\u001b[1;32m     47\u001b[0m predictions \u001b[38;5;241m=\u001b[39m torch\u001b[38;5;241m.\u001b[39margmax(logits, dim\u001b[38;5;241m=\u001b[39m\u001b[38;5;241m1\u001b[39m)\n",
      "\u001b[0;31mKeyboardInterrupt\u001b[0m: "
     ]
    }
   ],
   "source": [
    "# Cell 6: Run the Pipeline\n",
    "# Initialize model and data\n",
    "model, train_dataloader, val_dataloader, test_dataloader, device = prepare_model_and_data(\n",
    "    train_df=train_df,\n",
    "    val_df=val_df,\n",
    "    test_df=test_df,\n",
    "    use_full_data=True,\n",
    "    # sample_size=2000\n",
    ")\n",
    "\n",
    "# Train the model\n",
    "history_df, test_metrics = train_model(\n",
    "    model, \n",
    "    train_dataloader, \n",
    "    val_dataloader, \n",
    "    test_dataloader, \n",
    "    device, \n",
    "    num_epochs=20, \n",
    "    patience=6, \n",
    "    learning_rate=1e-4,\n",
    "    checkpoint_dir='model_checkpoints_half_window_800'\n",
    ")"
   ]
  },
  {
   "cell_type": "code",
   "execution_count": 16,
   "metadata": {},
   "outputs": [],
   "source": [
    "def load_best_model_and_evaluate(model, checkpoint_path, test_dataloader, device):\n",
    "    \"\"\"\n",
    "    Load the best model checkpoint and evaluate it on the test set.\n",
    "    \n",
    "    Args:\n",
    "        model: The model architecture\n",
    "        checkpoint_path: Path to the best model checkpoint\n",
    "        test_dataloader: DataLoader for the test set\n",
    "        device: Device to run the model on (cuda or cpu)\n",
    "    \n",
    "    Returns:\n",
    "        test_metrics: Dictionary containing test metrics\n",
    "    \"\"\"\n",
    "    # Load the checkpoint\n",
    "    print(f\"Loading checkpoint from {checkpoint_path}...\")\n",
    "    checkpoint = torch.load(checkpoint_path, map_location=device, weights_only=False)\n",
    "    \n",
    "    # Load model state\n",
    "    model.load_state_dict(checkpoint['model_state_dict'])\n",
    "    model = model.to(device)\n",
    "    \n",
    "    # Print checkpoint information\n",
    "    print(f\"Loaded checkpoint from epoch {checkpoint['epoch']}\")\n",
    "    print(f\"Validation loss: {checkpoint['val_loss']:.4f}\")\n",
    "    print(f\"Validation accuracy: {checkpoint['val_acc']:.4f}\")\n",
    "    print(f\"Validation F1 (Class 0): {checkpoint['val_f1_class0']:.4f}\")\n",
    "    print(f\"Validation F1 (Class 1): {checkpoint['val_f1_class1']:.4f}\")\n",
    "    print(f\"Validation F1 (Class 2): {checkpoint['val_f1_class2']:.4f}\")\n",
    "    \n",
    "    # Evaluate on test set\n",
    "    print(\"\\nEvaluating on test set...\")\n",
    "    test_metrics = evaluate_model(model, test_dataloader, device)\n",
    "    \n",
    "    # Print test metrics\n",
    "    print(\"\\n=== Test Evaluation Results ===\")\n",
    "    print(f\"Test Loss: {test_metrics['loss']:.4f}\")\n",
    "    print(f\"Test Accuracy: {test_metrics['accuracy']:.4f}\")\n",
    "    print(f\"Test F1 (Class 0): {test_metrics['f1_scores'][0]:.4f}\")\n",
    "    print(f\"Test F1 (Class 1): {test_metrics['f1_scores'][1]:.4f}\")\n",
    "    print(f\"Test F1 (Class 2): {test_metrics['f1_scores'][2]:.4f}\")\n",
    "    print(\"\\nConfusion Matrix:\")\n",
    "    print(test_metrics['confusion_matrix'])\n",
    "    print(\"\\nPrecision (Class 0, Class 1, Class 2):\", test_metrics['precision'])\n",
    "    print(\"Recall (Class 0, Class 1, Class 2):\", test_metrics['recall'])\n",
    "    \n",
    "    return test_metrics\n",
    "\n",
    "# Example usage:\n",
    "# checkpoint_path = 'model_checkpoints/best_model.pt'\n",
    "# test_metrics = load_best_model_and_evaluate(model, checkpoint_path, test_dataloader, device)"
   ]
  },
  {
   "cell_type": "code",
   "execution_count": 14,
   "metadata": {},
   "outputs": [
    {
     "name": "stdout",
     "output_type": "stream",
     "text": [
      "Loading checkpoint from model_checkpoints_half_window_800/best_model.pt...\n"
     ]
    },
    {
     "ename": "UnpicklingError",
     "evalue": "Weights only load failed. This file can still be loaded, to do so you have two options, \u001b[1mdo those steps only if you trust the source of the checkpoint\u001b[0m. \n\t(1) In PyTorch 2.6, we changed the default value of the `weights_only` argument in `torch.load` from `False` to `True`. Re-running `torch.load` with `weights_only` set to `False` will likely succeed, but it can result in arbitrary code execution. Do it only if you got the file from a trusted source.\n\t(2) Alternatively, to load with `weights_only=True` please check the recommended steps in the following error message.\n\tWeightsUnpickler error: Unsupported global: GLOBAL numpy.core.multiarray.scalar was not an allowed global by default. Please use `torch.serialization.add_safe_globals([scalar])` or the `torch.serialization.safe_globals([scalar])` context manager to allowlist this global if you trust this class/function.\n\nCheck the documentation of torch.load to learn more about types accepted by default with weights_only https://pytorch.org/docs/stable/generated/torch.load.html.",
     "output_type": "error",
     "traceback": [
      "\u001b[0;31m---------------------------------------------------------------------------\u001b[0m",
      "\u001b[0;31mUnpicklingError\u001b[0m                           Traceback (most recent call last)",
      "Cell \u001b[0;32mIn[14], line 10\u001b[0m\n\u001b[1;32m      2\u001b[0m model, _, _, test_dataloader, device \u001b[38;5;241m=\u001b[39m prepare_model_and_data(\n\u001b[1;32m      3\u001b[0m     train_df\u001b[38;5;241m=\u001b[39mtrain_df,\n\u001b[1;32m      4\u001b[0m     val_df\u001b[38;5;241m=\u001b[39mval_df,\n\u001b[1;32m      5\u001b[0m     test_df\u001b[38;5;241m=\u001b[39mtest_df,\n\u001b[1;32m      6\u001b[0m     use_full_data\u001b[38;5;241m=\u001b[39m\u001b[38;5;28;01mTrue\u001b[39;00m\n\u001b[1;32m      7\u001b[0m )\n\u001b[1;32m      9\u001b[0m checkpoint_path \u001b[38;5;241m=\u001b[39m \u001b[38;5;124m'\u001b[39m\u001b[38;5;124mmodel_checkpoints_half_window_800/best_model.pt\u001b[39m\u001b[38;5;124m'\u001b[39m\n\u001b[0;32m---> 10\u001b[0m test_metrics \u001b[38;5;241m=\u001b[39m \u001b[43mload_best_model_and_evaluate\u001b[49m\u001b[43m(\u001b[49m\u001b[43mmodel\u001b[49m\u001b[43m,\u001b[49m\u001b[43m \u001b[49m\u001b[43mcheckpoint_path\u001b[49m\u001b[43m,\u001b[49m\u001b[43m \u001b[49m\u001b[43mtest_dataloader\u001b[49m\u001b[43m,\u001b[49m\u001b[43m \u001b[49m\u001b[43mdevice\u001b[49m\u001b[43m)\u001b[49m\n\u001b[1;32m     12\u001b[0m \u001b[38;5;66;03m# Reconstruct history_df from the best checkpoint\u001b[39;00m\n\u001b[1;32m     13\u001b[0m history \u001b[38;5;241m=\u001b[39m {\n\u001b[1;32m     14\u001b[0m     \u001b[38;5;124m'\u001b[39m\u001b[38;5;124mepoch\u001b[39m\u001b[38;5;124m'\u001b[39m: [\u001b[38;5;241m1\u001b[39m, \u001b[38;5;241m2\u001b[39m, \u001b[38;5;241m3\u001b[39m, \u001b[38;5;241m4\u001b[39m, \u001b[38;5;241m5\u001b[39m, \u001b[38;5;241m6\u001b[39m, \u001b[38;5;241m7\u001b[39m],\n\u001b[1;32m     15\u001b[0m     \u001b[38;5;124m'\u001b[39m\u001b[38;5;124mtrain_loss\u001b[39m\u001b[38;5;124m'\u001b[39m: [\u001b[38;5;241m0.4223\u001b[39m, \u001b[38;5;241m0.3658\u001b[39m, \u001b[38;5;241m0.3560\u001b[39m, \u001b[38;5;241m0.3508\u001b[39m, \u001b[38;5;241m0.3475\u001b[39m, \u001b[38;5;241m0.3446\u001b[39m, \u001b[38;5;241m0.3424\u001b[39m],\n\u001b[0;32m   (...)\u001b[0m\n\u001b[1;32m     25\u001b[0m     \u001b[38;5;124m'\u001b[39m\u001b[38;5;124mval_f1_class2\u001b[39m\u001b[38;5;124m'\u001b[39m: [\u001b[38;5;241m0.9631\u001b[39m, \u001b[38;5;241m0.9681\u001b[39m, \u001b[38;5;241m0.9714\u001b[39m, \u001b[38;5;241m0.9709\u001b[39m, \u001b[38;5;241m0.9720\u001b[39m, \u001b[38;5;241m0.9732\u001b[39m, \u001b[38;5;241m0.9732\u001b[39m]\n\u001b[1;32m     26\u001b[0m }\n",
      "Cell \u001b[0;32mIn[13], line 16\u001b[0m, in \u001b[0;36mload_best_model_and_evaluate\u001b[0;34m(model, checkpoint_path, test_dataloader, device)\u001b[0m\n\u001b[1;32m     14\u001b[0m \u001b[38;5;66;03m# Load the checkpoint\u001b[39;00m\n\u001b[1;32m     15\u001b[0m \u001b[38;5;28mprint\u001b[39m(\u001b[38;5;124mf\u001b[39m\u001b[38;5;124m\"\u001b[39m\u001b[38;5;124mLoading checkpoint from \u001b[39m\u001b[38;5;132;01m{\u001b[39;00mcheckpoint_path\u001b[38;5;132;01m}\u001b[39;00m\u001b[38;5;124m...\u001b[39m\u001b[38;5;124m\"\u001b[39m)\n\u001b[0;32m---> 16\u001b[0m checkpoint \u001b[38;5;241m=\u001b[39m \u001b[43mtorch\u001b[49m\u001b[38;5;241;43m.\u001b[39;49m\u001b[43mload\u001b[49m\u001b[43m(\u001b[49m\u001b[43mcheckpoint_path\u001b[49m\u001b[43m,\u001b[49m\u001b[43m \u001b[49m\u001b[43mmap_location\u001b[49m\u001b[38;5;241;43m=\u001b[39;49m\u001b[43mdevice\u001b[49m\u001b[43m)\u001b[49m\n\u001b[1;32m     18\u001b[0m \u001b[38;5;66;03m# Load model state\u001b[39;00m\n\u001b[1;32m     19\u001b[0m model\u001b[38;5;241m.\u001b[39mload_state_dict(checkpoint[\u001b[38;5;124m'\u001b[39m\u001b[38;5;124mmodel_state_dict\u001b[39m\u001b[38;5;124m'\u001b[39m])\n",
      "File \u001b[0;32m~/.local/perlmutter/python-3.11/lib/python3.11/site-packages/torch/serialization.py:1470\u001b[0m, in \u001b[0;36mload\u001b[0;34m(f, map_location, pickle_module, weights_only, mmap, **pickle_load_args)\u001b[0m\n\u001b[1;32m   1462\u001b[0m                 \u001b[38;5;28;01mreturn\u001b[39;00m _load(\n\u001b[1;32m   1463\u001b[0m                     opened_zipfile,\n\u001b[1;32m   1464\u001b[0m                     map_location,\n\u001b[0;32m   (...)\u001b[0m\n\u001b[1;32m   1467\u001b[0m                     \u001b[38;5;241m*\u001b[39m\u001b[38;5;241m*\u001b[39mpickle_load_args,\n\u001b[1;32m   1468\u001b[0m                 )\n\u001b[1;32m   1469\u001b[0m             \u001b[38;5;28;01mexcept\u001b[39;00m pickle\u001b[38;5;241m.\u001b[39mUnpicklingError \u001b[38;5;28;01mas\u001b[39;00m e:\n\u001b[0;32m-> 1470\u001b[0m                 \u001b[38;5;28;01mraise\u001b[39;00m pickle\u001b[38;5;241m.\u001b[39mUnpicklingError(_get_wo_message(\u001b[38;5;28mstr\u001b[39m(e))) \u001b[38;5;28;01mfrom\u001b[39;00m \u001b[38;5;28;01mNone\u001b[39;00m\n\u001b[1;32m   1471\u001b[0m         \u001b[38;5;28;01mreturn\u001b[39;00m _load(\n\u001b[1;32m   1472\u001b[0m             opened_zipfile,\n\u001b[1;32m   1473\u001b[0m             map_location,\n\u001b[0;32m   (...)\u001b[0m\n\u001b[1;32m   1476\u001b[0m             \u001b[38;5;241m*\u001b[39m\u001b[38;5;241m*\u001b[39mpickle_load_args,\n\u001b[1;32m   1477\u001b[0m         )\n\u001b[1;32m   1478\u001b[0m \u001b[38;5;28;01mif\u001b[39;00m mmap:\n",
      "\u001b[0;31mUnpicklingError\u001b[0m: Weights only load failed. This file can still be loaded, to do so you have two options, \u001b[1mdo those steps only if you trust the source of the checkpoint\u001b[0m. \n\t(1) In PyTorch 2.6, we changed the default value of the `weights_only` argument in `torch.load` from `False` to `True`. Re-running `torch.load` with `weights_only` set to `False` will likely succeed, but it can result in arbitrary code execution. Do it only if you got the file from a trusted source.\n\t(2) Alternatively, to load with `weights_only=True` please check the recommended steps in the following error message.\n\tWeightsUnpickler error: Unsupported global: GLOBAL numpy.core.multiarray.scalar was not an allowed global by default. Please use `torch.serialization.add_safe_globals([scalar])` or the `torch.serialization.safe_globals([scalar])` context manager to allowlist this global if you trust this class/function.\n\nCheck the documentation of torch.load to learn more about types accepted by default with weights_only https://pytorch.org/docs/stable/generated/torch.load.html."
     ]
    }
   ],
   "source": [
    "# Prepare model and data\n",
    "model, _, _, test_dataloader, device = prepare_model_and_data(\n",
    "    train_df=train_df,\n",
    "    val_df=val_df,\n",
    "    test_df=test_df,\n",
    "    use_full_data=True\n",
    ")"
   ]
  },
  {
   "cell_type": "code",
   "execution_count": null,
   "metadata": {},
   "outputs": [],
   "source": []
  },
  {
   "cell_type": "code",
   "execution_count": 17,
   "metadata": {},
   "outputs": [
    {
     "name": "stdout",
     "output_type": "stream",
     "text": [
      "Loading checkpoint from model_checkpoints_half_window_800/best_model.pt...\n",
      "Loaded checkpoint from epoch 6\n",
      "Validation loss: 0.3497\n",
      "Validation accuracy: 0.9702\n",
      "Validation F1 (Class 0): 0.9684\n",
      "Validation F1 (Class 1): 0.9661\n",
      "Validation F1 (Class 2): 0.9732\n",
      "\n",
      "Evaluating on test set...\n",
      "\n",
      "=== Test Evaluation Results ===\n",
      "Test Loss: 0.3498\n",
      "Test Accuracy: 0.9702\n",
      "Test F1 (Class 0): 0.9683\n",
      "Test F1 (Class 1): 0.9657\n",
      "Test F1 (Class 2): 0.9734\n",
      "\n",
      "Confusion Matrix:\n",
      "[[ 74143    538   1686]\n",
      " [   480  74271   1616]\n",
      " [  2149   2638 147946]]\n",
      "\n",
      "Precision (Class 0, Class 1, Class 2): [0.96575574 0.95899131 0.97816831]\n",
      "Recall (Class 0, Class 1, Class 2): [0.97087747 0.97255359 0.96865772]\n"
     ]
    }
   ],
   "source": [
    "\n",
    "checkpoint_path = 'model_checkpoints_half_window_800/best_model.pt'\n",
    "test_metrics = load_best_model_and_evaluate(model, checkpoint_path, test_dataloader, device)\n",
    "\n",
    "# Reconstruct history_df manually\n",
    "history = {\n",
    "    'epoch': [1, 2, 3, 4, 5, 6, 7],\n",
    "    'train_loss': [0.4223, 0.3658, 0.3560, 0.3508, 0.3475, 0.3446, 0.3424],\n",
    "    'val_loss': [0.3738, 0.3604, 0.3532, 0.3539, 0.3516, 0.3497, 0.3500],\n",
    "    'train_acc': [0.9299, 0.9618, 0.9670, 0.9697, 0.9715, 0.9730, 0.9744],\n",
    "    'val_acc': [0.9573, 0.9642, 0.9682, 0.9676, 0.9688, 0.9702, 0.9703],\n",
    "    'learning_rate': [0.0001] * 7,\n",
    "    'train_f1_class0': [0.9150, 0.9574, 0.9636, 0.9666, 0.9689, 0.9705, 0.9720],\n",
    "    'train_f1_class1': [0.9162, 0.9578, 0.9632, 0.9663, 0.9681, 0.9698, 0.9714],\n",
    "    'train_f1_class2': [0.9441, 0.9660, 0.9706, 0.9729, 0.9745, 0.9759, 0.9771],\n",
    "    'val_f1_class0': [0.9484, 0.9589, 0.9652, 0.9640, 0.9646, 0.9684, 0.9678],\n",
    "    'val_f1_class1': [0.9550, 0.9619, 0.9648, 0.9647, 0.9667, 0.9661, 0.9671],\n",
    "    'val_f1_class2': [0.9631, 0.9681, 0.9714, 0.9709, 0.9720, 0.9732, 0.9732]\n",
    "}\n",
    "\n",
    "history_df = pd.DataFrame(history)"
   ]
  },
  {
   "cell_type": "code",
   "execution_count": 18,
   "metadata": {},
   "outputs": [
    {
     "data": {
      "image/png": "[encoded data removed]",
      "text/plain": [
       "<Figure size 1500x500 with 2 Axes>"
      ]
     },
     "metadata": {},
     "output_type": "display_data"
    }
   ],
   "source": [
    "# Plot training history\n",
    "import matplotlib.pyplot as plt\n",
    "from matplotlib.ticker import MaxNLocator\n",
    "\n",
    "plt.figure(figsize=(15, 5))\n",
    "\n",
    "plt.subplot(1, 2, 1)\n",
    "plt.plot(history_df['train_loss'], label='Train Loss')\n",
    "plt.plot(history_df['val_loss'], label='Val Loss')\n",
    "plt.title('Loss Over Time')\n",
    "plt.xlabel('Epoch')\n",
    "plt.ylabel('Loss')\n",
    "plt.legend()\n",
    "plt.gca().xaxis.set_major_locator(MaxNLocator(integer=True))\n",
    "\n",
    "plt.subplot(1, 2, 2)\n",
    "plt.plot(history_df['train_acc'], label='Train Acc')\n",
    "plt.plot(history_df['val_acc'], label='Val Acc')\n",
    "plt.title('Accuracy Over Time')\n",
    "plt.xlabel('Epoch')\n",
    "plt.ylabel('Accuracy')\n",
    "plt.legend()\n",
    "plt.gca().xaxis.set_major_locator(MaxNLocator(integer=True))\n",
    "\n",
    "plt.tight_layout()\n",
    "plt.show()"
   ]
  },
  {
   "cell_type": "code",
   "execution_count": null,
   "metadata": {},
   "outputs": [],
   "source": [
    "# After training, load the best model and evaluate\n",
    "# checkpoint_path = 'model_checkpoints_half_window_800/best_model.pt'\n",
    "#test_metrics = load_best_model_and_evaluate(model, checkpoint_path, test_dataloader, device)"
   ]
  },
  {
   "cell_type": "code",
   "execution_count": 19,
   "metadata": {
    "collapsed": true,
    "jupyter": {
     "outputs_hidden": true
    },
    "scrolled": true
   },
   "outputs": [
    {
     "data": {
      "image/png": "[encoded data removed]",
      "text/plain": [
       "<Figure size 1000x800 with 2 Axes>"
      ]
     },
     "metadata": {},
     "output_type": "display_data"
    }
   ],
   "source": [
    "import matplotlib.pyplot as plt\n",
    "import seaborn as sns\n",
    "\n",
    "def plot_confusion_matrix(confusion_matrix, class_names=None, path='confusion_matrix.png'):\n",
    "    \"\"\"\n",
    "    Plot confusion matrix as a heatmap.\n",
    "    \n",
    "    Args:\n",
    "        confusion_matrix: 2D numpy array of confusion matrix\n",
    "        class_names: List of class names (optional)\n",
    "    \"\"\"\n",
    "    plt.figure(figsize=(10, 8))\n",
    "    sns.heatmap(confusion_matrix, annot=True, fmt='d', cmap='Blues',\n",
    "                xticklabels=class_names, yticklabels=class_names)\n",
    "    plt.xlabel('Predicted')\n",
    "    plt.ylabel('True')\n",
    "    plt.title('Confusion Matrix')\n",
    "    plt.tight_layout()\n",
    "    plt.savefig(path)\n",
    "    plt.show()\n",
    "\n",
    "# Plot confusion matrix\n",
    "plot_confusion_matrix(test_metrics['confusion_matrix'], \n",
    "                     class_names=['Class 0 (Donor)', 'Class 1 (Acceptor)', 'Class 2 (Neither)'], path='confusion_matrix.png')"
   ]
  },
  {
   "cell_type": "code",
   "execution_count": null,
   "metadata": {},
   "outputs": [],
   "source": []
  },
  {
   "cell_type": "code",
   "execution_count": 20,
   "metadata": {},
   "outputs": [
    {
     "name": "stdout",
     "output_type": "stream",
     "text": [
      "\n",
      "=== Sorghum Test Evaluation ===\n",
      "Loss: 0.3976\n",
      "Accuracy: 0.9456\n",
      "F1 (Donor): 0.9468\n",
      "F1 (Acceptor): 0.9415\n",
      "F1 (Neither): 0.9472\n",
      "\n",
      "Confusion Matrix:\n",
      "[[288233   1576   7216]\n",
      " [  2046 288472   6506]\n",
      " [ 21540  25719 546790]]\n",
      "\n",
      "Precision: [0.92435997 0.91355968 0.97551881]\n",
      "Recall: [0.9703998  0.97120771 0.92044596]\n"
     ]
    },
    {
     "data": {
      "image/png": "[encoded data removed]",
      "text/plain": [
       "<Figure size 1000x800 with 2 Axes>"
      ]
     },
     "metadata": {},
     "output_type": "display_data"
    }
   ],
   "source": [
    "# Load Sorghum dataset\n",
    "sorghum_df = pd.read_csv(\n",
    "    '../data/Sorghum/splice_sites_full_centered_balanced_correct-GCF_000003195-half_window-800.csv'\n",
    ")\n",
    "\n",
    "# Create dataset and dataloader\n",
    "sorghum_dataset = DNASequenceDataset(\n",
    "    sequences=sorghum_df['sequence'].tolist(),\n",
    "    labels=sorghum_df['kind'].tolist(),\n",
    "    max_length=1650\n",
    ")\n",
    "sorghum_dataloader = DataLoader(sorghum_dataset, batch_size=32)\n",
    "\n",
    "# Evaluate\n",
    "sorghum_metrics = evaluate_model(model, sorghum_dataloader, device)\n",
    "\n",
    "# Print metrics\n",
    "print(\"\\n=== Sorghum Test Evaluation ===\")\n",
    "print(f\"Loss: {sorghum_metrics['loss']:.4f}\")\n",
    "print(f\"Accuracy: {sorghum_metrics['accuracy']:.4f}\")\n",
    "print(f\"F1 (Donor): {sorghum_metrics['f1_scores'][0]:.4f}\")\n",
    "print(f\"F1 (Acceptor): {sorghum_metrics['f1_scores'][1]:.4f}\")\n",
    "print(f\"F1 (Neither): {sorghum_metrics['f1_scores'][2]:.4f}\")\n",
    "print(\"\\nConfusion Matrix:\")\n",
    "print(sorghum_metrics['confusion_matrix'])\n",
    "print(\"\\nPrecision:\", sorghum_metrics['precision'])\n",
    "print(\"Recall:\", sorghum_metrics['recall'])\n",
    "\n",
    "# Optional: plot confusion matrix\n",
    "plot_confusion_matrix(sorghum_metrics['confusion_matrix'], \n",
    "                      class_names=['Donor', 'Acceptor', 'Neither'], path='sorghum_confusion_matrix.png')"
   ]
  },
  {
   "cell_type": "code",
   "execution_count": 22,
   "metadata": {},
   "outputs": [
    {
     "name": "stdout",
     "output_type": "stream",
     "text": [
      "1188098\n"
     ]
    }
   ],
   "source": [
    "print(len(sorghum_df))"
   ]
  }
 ],
 "metadata": {
  "kernelspec": {
   "display_name": "NERSC Python",
   "language": "python",
   "name": "python3"
  },
  "language_info": {
   "codemirror_mode": {
    "name": "ipython",
    "version": 3
   },
   "file_extension": ".py",
   "mimetype": "text/x-python",
   "name": "python",
   "nbconvert_exporter": "python",
   "pygments_lexer": "ipython3",
   "version": "3.11.7"
  }
 },
 "nbformat": 4,
 "nbformat_minor": 4
}
